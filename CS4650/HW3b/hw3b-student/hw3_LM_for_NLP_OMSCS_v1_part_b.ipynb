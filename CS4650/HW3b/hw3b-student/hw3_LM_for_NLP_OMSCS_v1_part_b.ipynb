{
 "cells": [
  {
   "cell_type": "markdown",
   "metadata": {
    "editable": false,
    "id": "UT-whgM5YV8X",
    "slideshow": {
     "slide_type": ""
    },
    "tags": []
   },
   "source": [
    "# Language Modeling\n",
    "\n",
    "A language model attempts to approximate the underlying statistics of a text corpus $P(tok_n | tok_1, tok_2, ..., tok_{n-1}; \\theta)$ where $\\theta$ is a set of learned parameters/weights. For the purposes of this notebook, tokens will be words. Language models can be used for a variety of applications, one of which being text generation. In this assignement we will be looking at language modeling techniques of increasing sophistication.\n",
    "\n",
    "**Tips:**\n",
    "- Read all the code. We don't ask you to write the training loops, evaluation loops, and generation loops, but it is often instructive to see how the models are trained and evaluated.\n",
    "- If you have a model that is learning (loss is decreasing), but you want to increase accuracy, try using ``nn.Dropout`` layers just before the final linear layer to force the model to handle missing or unfamiliar data."
   ]
  },
  {
   "cell_type": "code",
   "execution_count": 134,
   "metadata": {
    "collapsed": false,
    "editable": false,
    "is_executing": true,
    "jupyter": {
     "outputs_hidden": false
    },
    "slideshow": {
     "slide_type": ""
    },
    "tags": [
     "raises-exception"
    ]
   },
   "outputs": [],
   "source": [
    "# start time - notebook execution\n",
    "import time\n",
    "start_nb = time.time()"
   ]
  },
  {
   "cell_type": "markdown",
   "metadata": {
    "editable": false,
    "id": "VeQWnSY8CgT1",
    "slideshow": {
     "slide_type": ""
    },
    "tags": []
   },
   "source": [
    "# Set up"
   ]
  },
  {
   "cell_type": "markdown",
   "metadata": {
    "editable": false,
    "id": "vcoLFG32u68g",
    "slideshow": {
     "slide_type": ""
    },
    "tags": []
   },
   "source": [
    "Import packages"
   ]
  },
  {
   "cell_type": "code",
   "execution_count": 135,
   "metadata": {
    "editable": false,
    "executionInfo": {
     "elapsed": 11505,
     "status": "ok",
     "timestamp": 1701883137113,
     "user": {
      "displayName": "Frank Ginac",
      "userId": "00024240915320510876"
     },
     "user_tz": 360
    },
    "id": "us-v9ZxoTHV1",
    "slideshow": {
     "slide_type": ""
    },
    "tags": [
     "raises-exception"
    ]
   },
   "outputs": [],
   "source": [
    "import matplotlib.pyplot as plt\n",
    "import numpy as np\n",
    "import os\n",
    "import re\n",
    "import torch\n",
    "import torch.nn as nn\n",
    "from torch import optim\n",
    "from torch.optim.lr_scheduler import ExponentialLR\n",
    "import torch.nn.functional as F\n",
    "import unicodedata\n",
    "\n",
    "# ignore all warnings\n",
    "import warnings\n",
    "warnings.filterwarnings('ignore')"
   ]
  },
  {
   "cell_type": "markdown",
   "metadata": {
    "collapsed": false,
    "editable": false,
    "jupyter": {
     "outputs_hidden": false
    },
    "slideshow": {
     "slide_type": ""
    },
    "tags": []
   },
   "source": [
    "# Initialize the Autograder"
   ]
  },
  {
   "cell_type": "code",
   "execution_count": 136,
   "metadata": {
    "collapsed": false,
    "editable": false,
    "jupyter": {
     "outputs_hidden": false
    },
    "slideshow": {
     "slide_type": ""
    },
    "tags": [
     "raises-exception"
    ]
   },
   "outputs": [],
   "source": [
    "# import the autograder tests\n",
    "import hw3b_tests as ag"
   ]
  },
  {
   "cell_type": "markdown",
   "metadata": {
    "editable": false,
    "id": "Fp1_pgBuY5zT",
    "slideshow": {
     "slide_type": ""
    },
    "tags": []
   },
   "source": [
    "We will build a *vocabulary*, which will act as a dictionary of all the words our systems will know about. It will also allow us to map words to tokens, which will be unique indexes in the vocabulary. This will further allow us to transform words into one-hot vectors, where a word is represented as a vector of the same length as the vocabulary wherein all values are zeros except for the *i*th element, where *i* is the token number of the word."
   ]
  },
  {
   "cell_type": "code",
   "execution_count": 137,
   "metadata": {
    "editable": false,
    "executionInfo": {
     "elapsed": 5,
     "status": "ok",
     "timestamp": 1701883137113,
     "user": {
      "displayName": "Frank Ginac",
      "userId": "00024240915320510876"
     },
     "user_tz": 360
    },
    "id": "1ybnRLpOTYwi",
    "slideshow": {
     "slide_type": ""
    },
    "tags": [
     "raises-exception"
    ]
   },
   "outputs": [],
   "source": [
    "class Vocab:\n",
    "    def __init__(self, name):\n",
    "        self.name = name                             # The name of the vocabulary\n",
    "        self._word2index = {}                        # Map words to token index\n",
    "        self._word2count = {}                        # Track how many times a word occurs in a corpus\n",
    "        self._index2word = {0: \"SOS\", 1: \"EOS\"}      # Map token indexs back into words\n",
    "        self._n_words = 2 # Count SOS and EOS        # Number of unique words in the corpus\n",
    "\n",
    "    # Get a list of all words\n",
    "    def get_words(self):\n",
    "      return list(self._word2count.keys())\n",
    "\n",
    "    # Get the number of words\n",
    "    def num_words(self):\n",
    "      return self._n_words\n",
    "\n",
    "    # Convert a word into a token index\n",
    "    def word2index(self, word):\n",
    "      return self._word2index[word]\n",
    "\n",
    "    # Convert a token into a word\n",
    "    def index2word(self, word):\n",
    "      return self._index2word[word]\n",
    "\n",
    "    # Get the number of times a word occurs\n",
    "    def word2count(self, word):\n",
    "      return self._word2count[word]\n",
    "\n",
    "    # Add all the words in a sentence to the vocabulary\n",
    "    def add_sentence(self, sentence):\n",
    "        for word in sentence.split(' '):\n",
    "            self.add_word(word)\n",
    "\n",
    "    # Add a single word to the vocabulary\n",
    "    def add_word(self, word):\n",
    "        if word not in self._word2index:\n",
    "            self._word2index[word] = self._n_words\n",
    "            self._word2count[word] = 1\n",
    "            self._index2word[self._n_words] = word\n",
    "            self._n_words += 1\n",
    "        else:\n",
    "            self._word2count[word] += 1"
   ]
  },
  {
   "cell_type": "markdown",
   "metadata": {
    "editable": false,
    "id": "8L7cXWAYacx3",
    "slideshow": {
     "slide_type": ""
    },
    "tags": []
   },
   "source": [
    "These are some helper functions to *normalize* texts, ie, make the text regular and remove some of the more problematic exceptions found in texts. This normalizer will make all words lowercase, trim plurals, and remove non-letter characters."
   ]
  },
  {
   "cell_type": "code",
   "execution_count": 138,
   "metadata": {
    "editable": false,
    "executionInfo": {
     "elapsed": 4,
     "status": "ok",
     "timestamp": 1701883137113,
     "user": {
      "displayName": "Frank Ginac",
      "userId": "00024240915320510876"
     },
     "user_tz": 360
    },
    "id": "SpAin8FuTsNr",
    "slideshow": {
     "slide_type": ""
    },
    "tags": [
     "raises-exception"
    ]
   },
   "outputs": [],
   "source": [
    "# Convert any unicode to ascii\n",
    "def unicode_to_ascii(s):\n",
    "    return ''.join(\n",
    "        c for c in unicodedata.normalize('NFD', s)\n",
    "        if unicodedata.category(c) != 'Mn'\n",
    "    )\n",
    "\n",
    "# Lowercase, trim, and remove non-letter characters\n",
    "def normalize_string(s):\n",
    "    s = unicode_to_ascii(s.lower().strip())\n",
    "    s = re.sub(r\"([.!?])\", r\" \\1\", s)\n",
    "    s = re.sub(r\"[^a-zA-Z.!?]+\", r\" \", s)\n",
    "    return s"
   ]
  },
  {
   "cell_type": "markdown",
   "metadata": {
    "editable": false,
    "id": "0G1p53AuazDJ",
    "slideshow": {
     "slide_type": ""
    },
    "tags": []
   },
   "source": [
    "Download a corpus. This corpus is the ascii text of the book, *The Silmarillion*, by J.R.R. Tolkein. It has a lot of non-common words and names to illustrate how language models deal with such things."
   ]
  },
  {
   "cell_type": "code",
   "execution_count": 139,
   "metadata": {
    "colab": {
     "base_uri": "https://localhost:8080/"
    },
    "editable": false,
    "executionInfo": {
     "elapsed": 1359,
     "status": "ok",
     "timestamp": 1701883138469,
     "user": {
      "displayName": "Frank Ginac",
      "userId": "00024240915320510876"
     },
     "user_tz": 360
    },
    "id": "i6IA64U3T3K7",
    "outputId": "39d06901-c85e-40a8-9cd6-ae5998194457",
    "slideshow": {
     "slide_type": ""
    },
    "tags": [
     "raises-exception"
    ]
   },
   "outputs": [],
   "source": [
    "# if data.txt is not in the current directory, download it\n",
    "if not os.path.isfile('data.txt'):\n",
    "  !wget -O data.txt https://www.dropbox.com/s/pgvn1n7t4sjxt8r/silmarillion?dl=1"
   ]
  },
  {
   "cell_type": "markdown",
   "metadata": {
    "editable": false,
    "id": "EEhv3LTxb1If",
    "slideshow": {
     "slide_type": ""
    },
    "tags": []
   },
   "source": [
    "Let's read in the data and take a look at it."
   ]
  },
  {
   "cell_type": "code",
   "execution_count": 140,
   "metadata": {
    "colab": {
     "base_uri": "https://localhost:8080/",
     "height": 0
    },
    "editable": false,
    "executionInfo": {
     "elapsed": 8,
     "status": "ok",
     "timestamp": 1701883138469,
     "user": {
      "displayName": "Frank Ginac",
      "userId": "00024240915320510876"
     },
     "user_tz": 360
    },
    "id": "AfzYspyHUT7k",
    "outputId": "7409d81f-b1cd-46a4-bbc0-c2736b208ad2",
    "slideshow": {
     "slide_type": ""
    },
    "tags": [
     "raises-exception"
    ]
   },
   "outputs": [
    {
     "data": {
      "text/plain": [
       "'The Silmarillon Chapter 1\\n\\n\\nOf the Beginning of Days It is told among the wise that the First War began before Arda was full-shaped, and ere yet there was any thing that grew or walked upon earth; and for long Melkor had the upper hand. But in the midst of the war a spirit of great strength and hardihood came to the aid of the Valar, hearing in the far heaven that there was battle in the Little Kingdom; and Arda was filled with the sound of his laughter. So came Tulkas the Strong, whose anger passes like a mighty wind, scattering cloud and darkness before it; and Melkor fled before his wrath and his laughter, and forsook Arda, and there was peace for a long age. And Tulkas remained and became one of the Valar of the Kingdom of Arda; but Melkor brooded in the outer darkness, and his hate was given to Tulkas for ever after.\\n\\nIn that time the Valar brought order to the seas and the lands and the mountains, and Yavanna planted at last the seeds that she had long devised. And since, when th'"
      ]
     },
     "execution_count": 140,
     "metadata": {},
     "output_type": "execute_result"
    }
   ],
   "source": [
    "filename = 'data.txt'\n",
    "with open(filename, encoding='utf-8') as f:\n",
    "  text = f.read()\n",
    "text[:1000]"
   ]
  },
  {
   "cell_type": "markdown",
   "metadata": {
    "editable": false,
    "id": "rPga6_LmcDWJ",
    "slideshow": {
     "slide_type": ""
    },
    "tags": []
   },
   "source": [
    "Normalize the text and build the vocabulary"
   ]
  },
  {
   "cell_type": "code",
   "execution_count": 141,
   "metadata": {
    "editable": false,
    "executionInfo": {
     "elapsed": 160,
     "status": "ok",
     "timestamp": 1701883138625,
     "user": {
      "displayName": "Frank Ginac",
      "userId": "00024240915320510876"
     },
     "user_tz": 360
    },
    "id": "FV_ib2sZYMqo",
    "slideshow": {
     "slide_type": ""
    },
    "tags": [
     "raises-exception"
    ]
   },
   "outputs": [],
   "source": [
    "normalized_text = normalize_string(text)\n",
    "VOCAB = Vocab(\"text\")\n",
    "VOCAB.add_sentence(normalized_text)"
   ]
  },
  {
   "cell_type": "markdown",
   "metadata": {
    "editable": false,
    "id": "VBei0ecBcHAy",
    "slideshow": {
     "slide_type": ""
    },
    "tags": []
   },
   "source": [
    "Make training and testing data splits."
   ]
  },
  {
   "cell_type": "code",
   "execution_count": 142,
   "metadata": {
    "colab": {
     "base_uri": "https://localhost:8080/"
    },
    "editable": false,
    "executionInfo": {
     "elapsed": 142,
     "status": "ok",
     "timestamp": 1701883138765,
     "user": {
      "displayName": "Frank Ginac",
      "userId": "00024240915320510876"
     },
     "user_tz": 360
    },
    "id": "HMc-3xncyc_Q",
    "outputId": "22c15d6a-aca5-4967-9144-38dde668862a",
    "slideshow": {
     "slide_type": ""
    },
    "tags": [
     "raises-exception"
    ]
   },
   "outputs": [
    {
     "name": "stdout",
     "output_type": "stream",
     "text": [
      "The first 100 tokens\n",
      "[ 2  3  4  5  2  6  5  7  8  9 10 11  2 12 13  2 14 15 16 17 18 19 20 21\n",
      " 22 23 24 25 19 26 27 13 28 29 30 31 32 22 33 34 35 36  2 37 38 39 40 41\n",
      "  2 42  5  2 15 43 44  5 45 46 22 47 48 49  2 50  5  2 51 52 41  2 53 54\n",
      " 13 25 19 55 41  2 56 57 22 18 19 58 59  2 60  5 61 62 39 63 48 64  2 65\n",
      " 66 67 68 69]\n"
     ]
    }
   ],
   "source": [
    "# Convert every word into a token and build a numpy array of tokens\n",
    "encoded_text = np.array([VOCAB.word2index(word) for word in normalized_text.split()])\n",
    "print(\"The first 100 tokens\")\n",
    "print(encoded_text[:100])\n",
    "# get the validation and the training data\n",
    "test_split = 0.1\n",
    "test_idx = int(len(encoded_text) * (1 - test_split))\n",
    "TRAIN = encoded_text[:test_idx]\n",
    "TEST = encoded_text[test_idx:]\n",
    "# Decrease the size of the training set to make the assignment more tractable\n",
    "TRAIN = TRAIN[:len(TRAIN)//10]"
   ]
  },
  {
   "cell_type": "markdown",
   "metadata": {
    "editable": false,
    "id": "NbdKluXiFs3G",
    "slideshow": {
     "slide_type": ""
    },
    "tags": []
   },
   "source": [
    "# LSTM (20 Points)\n",
    "\n",
    "A more sophisticated version of an RNN is a Long Short-Term Memory network (or an LSTM). It learns to decided what should be kept in the hidden state and what should be removed from the hidden state. This allows it to make better hidden states and thus learn a more accurate probability distribution and be a better generator.\n",
    "\n",
    "We will make two LSTMs. First, we will make a neural network that uses Pytorch's built in `nn.LSTMCell`. The second time, we will write an LSTM memory cell from scratch.\n",
    "\n",
    "**Complete the following network with two or more LSTMCell layers.** The network will take two inputs in its forward function:\n",
    "- `x`: a sequence of words, represented as one-hots. The input should be a tensor of shape `1 x vocab_size` That is, each row is a one-hot (batch size is 1).\n",
    "- `hc` which is a tuple containing (hidden_state, cell_state).\n",
    "\n",
    "The output of the forward function will be:\n",
    "- A sequence of output log probabilities. This output should be a tensor of shape `1 x vocab_size` where each row is a log probability distribution.\n",
    "- A tuple containing (hidden_state, cell_state).\n",
    "\n",
    "The network should contain two our more LSTMCell modules. Send the one-hot into the first LSTMCell along with the original `hc`. Then send the resulting hidden state to the next higher LSTMCell *along with the initial `hc`*. Keep doing this until you get to the top of the stack of LSTMCells. Once you get to the top of the stack, use an affine transformation to expand to vocabular size and generate a log probability with a log softmax.\n",
    "\n",
    "Forward should return the output log probabilities and a (hidden state, cell state) tuple."
   ]
  },
  {
   "cell_type": "code",
   "execution_count": 143,
   "metadata": {
    "editable": true,
    "executionInfo": {
     "elapsed": 3,
     "status": "ok",
     "timestamp": 1701883148144,
     "user": {
      "displayName": "Frank Ginac",
      "userId": "00024240915320510876"
     },
     "user_tz": 360
    },
    "id": "75ICSfVyO9Vw",
    "slideshow": {
     "slide_type": ""
    },
    "tags": [
     "raises-exception"
    ]
   },
   "outputs": [],
   "source": [
    "# build the model using the pytorch nn module\n",
    "class MyLSTM(nn.ModuleList):\n",
    "  def __init__(self, input_size, hidden_size, cell_type = nn.LSTMCell):\n",
    "    super(MyLSTM, self).__init__()\n",
    "\n",
    "    # init the parameters\n",
    "    self.hidden_dim = hidden_size\n",
    "    self.input_size = input_size\n",
    "\n",
    "    ### Use the cell_type passed into the constructor as the type of LSTM cell module\n",
    "    ### that is made. For the first part of the assignment, this will be the\n",
    "    ### default nn.LSTMCell. For the second part, this will be the custom-written\n",
    "    ### LSTM cell type.\n",
    "\n",
    "    ### BEGIN SOLUTION\n",
    "    self.lstm1 = cell_type(self.input_size, self.hidden_dim)\n",
    "    self.lstm2 = cell_type(self.hidden_dim, self.hidden_dim)\n",
    "    \n",
    "    self.out = nn.Linear(self.hidden_dim, self.input_size)\n",
    "    self.softmax = nn.LogSoftmax(dim=1)\n",
    "    ### END SOLUTION\n",
    "\n",
    "  def forward(self, x, hc):\n",
    "    # Return values\n",
    "    output = None\n",
    "    hidden = None\n",
    "    cell = None\n",
    "\n",
    "    # Pass the hidden and the cell state from one lstm cell to the next one\n",
    "    # we also feed the output of the first layer lstm cell at time step t to the second layer cell\n",
    "    # init both layer cells with the zero hidden and zero cell states\n",
    "\n",
    "    ### BEGIN SOLUTION\n",
    "    h, c = hc\n",
    "    h1, c1 = self.lstm1(x, (h, c))\n",
    "    h2, c2 = self.lstm2(h1, (h, c))\n",
    "\n",
    "    logits = self.out(h)\n",
    "    output = self.softmax(logits)\n",
    "    hidden = h2\n",
    "    cell = c2\n",
    "\n",
    "    ### END SOLUTION\n",
    "\n",
    "    return output, (hidden.detach(), cell.detach())\n",
    "\n",
    "  def init_hidden(self):\n",
    "    # initialize the hidden state and the cell state to zeros\n",
    "    return (torch.zeros(1, self.hidden_dim), # 1 is the batch size\n",
    "            torch.zeros(1, self.hidden_dim)) # 1 is the batch size\n"
   ]
  },
  {
   "cell_type": "markdown",
   "metadata": {
    "editable": false,
    "id": "5sNibJA1K93Q",
    "slideshow": {
     "slide_type": ""
    },
    "tags": []
   },
   "source": [
    "Let's build our LSTM"
   ]
  },
  {
   "cell_type": "code",
   "execution_count": 144,
   "metadata": {
    "editable": false,
    "executionInfo": {
     "elapsed": 2,
     "status": "ok",
     "timestamp": 1701883148144,
     "user": {
      "displayName": "Frank Ginac",
      "userId": "00024240915320510876"
     },
     "user_tz": 360
    },
    "id": "_es9Jos-Qz8A",
    "slideshow": {
     "slide_type": ""
    },
    "tags": []
   },
   "outputs": [],
   "source": [
    "# It's ok to change this cell, however, you should not need to change it much (if at all) - note: certain changes may break the autograder, e.g., \n",
    "# increasing the size of the hidden layer could cause out of memory errors in the autograder and large numbers of epochs could cause autograder to time\n",
    "# out (pay attention to the runtime of your notebook and the warnings that are printed out at the end of the notebook)\n",
    "LSTM_HIDDEN_SIZE = 4\n",
    "LSTM_NUM_EPOCHS = 2\n",
    "LSTM_LEARNING_RATE = 0.01"
   ]
  },
  {
   "cell_type": "code",
   "execution_count": 145,
   "metadata": {
    "editable": false,
    "executionInfo": {
     "elapsed": 9995,
     "status": "ok",
     "timestamp": 1701883158137,
     "user": {
      "displayName": "Frank Ginac",
      "userId": "00024240915320510876"
     },
     "user_tz": 360
    },
    "id": "n3Q2Z4BFQv-V",
    "slideshow": {
     "slide_type": ""
    },
    "tags": [
     "raises-exception"
    ]
   },
   "outputs": [],
   "source": [
    "lstm = MyLSTM(VOCAB.num_words(), LSTM_HIDDEN_SIZE)\n",
    "optimizer_lstm = optim.SGD(lstm.parameters(), lr=LSTM_LEARNING_RATE)\n",
    "criterion_lstm = nn.NLLLoss()"
   ]
  },
  {
   "cell_type": "code",
   "execution_count": 146,
   "metadata": {
    "colab": {
     "base_uri": "https://localhost:8080/"
    },
    "editable": false,
    "executionInfo": {
     "elapsed": 6,
     "status": "ok",
     "timestamp": 1701883158137,
     "user": {
      "displayName": "Frank Ginac",
      "userId": "00024240915320510876"
     },
     "user_tz": 360
    },
    "id": "PJh3pC-EXCAo",
    "outputId": "d2b4b492-e966-41f7-a877-a3b19fdd848d",
    "slideshow": {
     "slide_type": ""
    },
    "tags": [
     "raises-exception"
    ]
   },
   "outputs": [
    {
     "name": "stdout",
     "output_type": "stream",
     "text": [
      "Number of layers found, 5, is correct.\n",
      "Test A: 5/5\n"
     ]
    }
   ],
   "source": [
    "# student check - the following test must return a value of 3 to receive credit (5 pts)\n",
    "ag.LSTM_check()"
   ]
  },
  {
   "cell_type": "code",
   "execution_count": 147,
   "metadata": {
    "colab": {
     "base_uri": "https://localhost:8080/"
    },
    "editable": false,
    "executionInfo": {
     "elapsed": 589,
     "status": "ok",
     "timestamp": 1701883158892,
     "user": {
      "displayName": "Frank Ginac",
      "userId": "00024240915320510876"
     },
     "user_tz": 360
    },
    "id": "MQXazww3Tct5",
    "outputId": "bdaabe65-e1e2-4ce4-fd86-664bd3010d6d",
    "scrolled": true,
    "slideshow": {
     "slide_type": ""
    },
    "tags": [
     "raises-exception"
    ]
   },
   "outputs": [
    {
     "name": "stdout",
     "output_type": "stream",
     "text": [
      "torch.Size([1, 100]) torch.Size([1, 50]) torch.Size([1, 50])\n",
      "NllLossBackward0\n",
      "LogSoftmaxBackward0\n",
      "AddmmBackward0\n",
      "AccumulateGrad\n",
      "TBackward0\n",
      "AccumulateGrad\n",
      "NllLossBackward0\n",
      "LogSoftmaxBackward0\n",
      "AddmmBackward0\n",
      "AccumulateGrad\n",
      "TBackward0\n",
      "AccumulateGrad\n",
      "Number of layers found, 5, is correct.\n",
      "Test B: 5/5\n"
     ]
    }
   ],
   "source": [
    "# student check - the following test must return a value of 5 to receive credit (5 pts)\n",
    "ag.unit_test_LSTM_structure()"
   ]
  },
  {
   "cell_type": "markdown",
   "metadata": {
    "editable": false,
    "id": "M-jsgts9DoMC",
    "slideshow": {
     "slide_type": ""
    },
    "tags": []
   },
   "source": [
    "## LSTM---Training"
   ]
  },
  {
   "cell_type": "markdown",
   "metadata": {
    "editable": false,
    "id": "fy9kxSrwAWkL",
    "slideshow": {
     "slide_type": ""
    },
    "tags": []
   },
   "source": [
    "Here is the training loop. Notice it uses `get_rnn_x_y()` from HW2.\n"
   ]
  },
  {
   "cell_type": "code",
   "execution_count": 148,
   "metadata": {
    "editable": false,
    "executionInfo": {
     "elapsed": 3,
     "status": "ok",
     "timestamp": 1701883158892,
     "user": {
      "displayName": "Frank Ginac",
      "userId": "00024240915320510876"
     },
     "user_tz": 360
    },
    "id": "jwgcBtN7Qdda",
    "slideshow": {
     "slide_type": ""
    },
    "tags": [
     "raises-exception"
    ]
   },
   "outputs": [],
   "source": [
    "def train_lstm(net, optimizer, criterion, num_epochs, data):\n",
    "  epoch_losses = []\n",
    "  scheduler = ExponentialLR(optimizer, gamma=0.9)\n",
    "  net.train()\n",
    "  for epoch in range(num_epochs):\n",
    "    losses = []\n",
    "    hc = net.init_hidden()\n",
    "    for i in range(len(data)-1):\n",
    "      x, y = ag.get_rnn_x_y(data, i, VOCAB.num_words())\n",
    "      x = x.float()\n",
    "      output, hc = net(x, hc)\n",
    "      loss = criterion(output, y)\n",
    "      losses.append(loss)\n",
    "      optimizer.zero_grad()\n",
    "      loss.backward()\n",
    "      optimizer.step()\n",
    "      if i%1000 == 0:\n",
    "        print('iter', i, 'loss', torch.stack(losses).mean().item())\n",
    "    scheduler.step()\n",
    "    print('epoch', epoch, 'loss', torch.stack(losses).mean().item())\n",
    "    epoch_losses.append(torch.stack(losses).mean().item())\n",
    "  return epoch_losses"
   ]
  },
  {
   "cell_type": "code",
   "execution_count": 149,
   "metadata": {
    "colab": {
     "base_uri": "https://localhost:8080/"
    },
    "editable": false,
    "executionInfo": {
     "elapsed": 369876,
     "status": "ok",
     "timestamp": 1701883528766,
     "user": {
      "displayName": "Frank Ginac",
      "userId": "00024240915320510876"
     },
     "user_tz": 360
    },
    "id": "SSo3W6M0Hopi",
    "outputId": "1db3621e-110c-4e24-a7d7-325364fa35c9",
    "scrolled": true,
    "slideshow": {
     "slide_type": ""
    },
    "tags": [
     "raises-exception"
    ]
   },
   "outputs": [
    {
     "name": "stdout",
     "output_type": "stream",
     "text": [
      "iter 0 loss 9.153963088989258\n",
      "iter 1000 loss 8.563429832458496\n",
      "iter 2000 loss 8.425601959228516\n",
      "iter 3000 loss 8.263299942016602\n",
      "iter 4000 loss 8.150786399841309\n",
      "iter 5000 loss 8.094594955444336\n",
      "iter 6000 loss 8.042473793029785\n",
      "iter 7000 loss 7.959749221801758\n",
      "iter 8000 loss 7.887119770050049\n",
      "iter 9000 loss 7.799084186553955\n",
      "iter 10000 loss 7.7393798828125\n",
      "iter 11000 loss 7.679832935333252\n",
      "epoch 0 loss 7.651262283325195\n",
      "iter 0 loss 9.18871784210205\n",
      "iter 1000 loss 6.947693824768066\n",
      "iter 2000 loss 6.969485759735107\n",
      "iter 3000 loss 6.890399932861328\n",
      "iter 4000 loss 6.923593997955322\n",
      "iter 5000 loss 6.982756614685059\n",
      "iter 6000 loss 7.025611400604248\n",
      "iter 7000 loss 7.01476526260376\n",
      "iter 8000 loss 7.0012054443359375\n",
      "iter 9000 loss 6.96457576751709\n",
      "iter 10000 loss 6.9524245262146\n",
      "iter 11000 loss 6.936038494110107\n",
      "epoch 1 loss 6.924997329711914\n"
     ]
    }
   ],
   "source": [
    "epoch_losses = train_lstm(lstm, optimizer_lstm, criterion_lstm, num_epochs=LSTM_NUM_EPOCHS, data=TRAIN)"
   ]
  },
  {
   "cell_type": "code",
   "execution_count": 150,
   "metadata": {
    "collapsed": false,
    "editable": false,
    "jupyter": {
     "outputs_hidden": false
    },
    "slideshow": {
     "slide_type": ""
    },
    "tags": [
     "raises-exception"
    ]
   },
   "outputs": [
    {
     "data": {
      "text/plain": [
       "[<matplotlib.lines.Line2D at 0x329effdc0>]"
      ]
     },
     "execution_count": 150,
     "metadata": {},
     "output_type": "execute_result"
    },
    {
     "data": {
      "image/png": "[encoded data removed]",
      "text/plain": [
       "<Figure size 640x480 with 1 Axes>"
      ]
     },
     "metadata": {},
     "output_type": "display_data"
    }
   ],
   "source": [
    "plt.figure(1)\n",
    "plt.clf()\n",
    "plt.xlabel('Epoch')\n",
    "plt.ylabel('Loss')\n",
    "plt.xticks(range(len(epoch_losses)))\n",
    "plt.plot(epoch_losses)"
   ]
  },
  {
   "cell_type": "markdown",
   "metadata": {
    "collapsed": false,
    "editable": false,
    "jupyter": {
     "outputs_hidden": false
    },
    "slideshow": {
     "slide_type": ""
    },
    "tags": []
   },
   "source": [
    "You should see a curve that slopes down steeply at first and then levels out to some asymptotic minimum."
   ]
  },
  {
   "cell_type": "markdown",
   "metadata": {
    "editable": false,
    "id": "cu2yQ-jsDtGi",
    "slideshow": {
     "slide_type": ""
    },
    "tags": []
   },
   "source": [
    "## LSTM---Testing"
   ]
  },
  {
   "cell_type": "markdown",
   "metadata": {
    "editable": false,
    "id": "Ebr9BQa7Jolv",
    "slideshow": {
     "slide_type": ""
    },
    "tags": []
   },
   "source": [
    "Evaluation works the same as with the RNN."
   ]
  },
  {
   "cell_type": "code",
   "execution_count": 151,
   "metadata": {
    "colab": {
     "base_uri": "https://localhost:8080/"
    },
    "editable": false,
    "executionInfo": {
     "elapsed": 464,
     "status": "ok",
     "timestamp": 1701883529870,
     "user": {
      "displayName": "Frank Ginac",
      "userId": "00024240915320510876"
     },
     "user_tz": 360
    },
    "id": "XfSf3mGXKCc2",
    "outputId": "9f7c8e14-0833-4ced-d235-4b1af43fbd06",
    "slideshow": {
     "slide_type": ""
    },
    "tags": [
     "raises-exception"
    ]
   },
   "outputs": [
    {
     "name": "stdout",
     "output_type": "stream",
     "text": [
      "821.2913208007812\n",
      "Perplexity is less than 1000\n",
      "Test C: 10/10\n"
     ]
    }
   ],
   "source": [
    "# student check - the following test must return a value less than 1000 to receive credit (10 pts)\n",
    "ag.eval_lstm_1(max_perplexity=1000)"
   ]
  },
  {
   "cell_type": "markdown",
   "metadata": {
    "editable": false,
    "id": "Nz7K467kDwHi",
    "slideshow": {
     "slide_type": ""
    },
    "tags": []
   },
   "source": [
    "## LSTM---Generation"
   ]
  },
  {
   "cell_type": "markdown",
   "metadata": {
    "editable": false,
    "id": "CZ6FHHYiJuZk",
    "slideshow": {
     "slide_type": ""
    },
    "tags": []
   },
   "source": [
    "Generation works the same as the RNN. In fact you will notice that we can use the `prep_hidden_state` and `generate_rnn` functions without modification."
   ]
  },
  {
   "cell_type": "code",
   "execution_count": 152,
   "metadata": {
    "editable": true,
    "executionInfo": {
     "elapsed": 3,
     "status": "ok",
     "timestamp": 1701883529870,
     "user": {
      "displayName": "Frank Ginac",
      "userId": "00024240915320510876"
     },
     "user_tz": 360
    },
    "id": "DpdE9HWvVMhl",
    "slideshow": {
     "slide_type": ""
    },
    "tags": [
     "raises-exception"
    ]
   },
   "outputs": [],
   "source": [
    "# It's ok to change this cell\n",
    "LSTM_TEMPERATURE = 0.5"
   ]
  },
  {
   "cell_type": "code",
   "execution_count": 153,
   "metadata": {
    "colab": {
     "base_uri": "https://localhost:8080/"
    },
    "executionInfo": {
     "elapsed": 3,
     "status": "ok",
     "timestamp": 1701883529870,
     "user": {
      "displayName": "Frank Ginac",
      "userId": "00024240915320510876"
     },
     "user_tz": 360
    },
    "id": "NO2U8mCQMUxM",
    "outputId": "f6a631d5-26c5-4488-8bd5-a3b3c5e3611f",
    "slideshow": {
     "slide_type": ""
    },
    "tags": [
     "raises-exception"
    ]
   },
   "outputs": [
    {
     "name": "stdout",
     "output_type": "stream",
     "text": [
      "input prompt: the First War began\n",
      "input tokens: [2, 14, 15, 16] \n",
      "\n",
      "Prepping hidden state:\n",
      "\n",
      "current token: 2 the\n",
      "predicted next token: 2 the \n",
      "\n",
      "current token: 14 first\n",
      "predicted next token: 2 the \n",
      "\n",
      "current token: 15 war\n",
      "predicted next token: 2 the \n",
      "\n",
      "current token: 16 began\n",
      "predicted next token: 2 the \n",
      "\n",
      "Generating continuation:\n",
      "\n",
      "current token: 16 began\n",
      "predicted next token: 2 the \n",
      "\n",
      "current token: 2 the\n",
      "predicted next token: 2 the \n",
      "\n",
      "current token: 2 the\n",
      "predicted next token: 2 the \n",
      "\n",
      "current token: 2 the\n",
      "predicted next token: 2 the \n",
      "\n",
      "current token: 2 the\n",
      "predicted next token: 2 the \n",
      "\n",
      "current token: 2 the\n",
      "predicted next token: 2 the \n",
      "\n",
      "current token: 2 the\n",
      "predicted next token: 2 the \n",
      "\n",
      "current token: 2 the\n",
      "predicted next token: 2 the \n",
      "\n",
      "current token: 2 the\n",
      "predicted next token: 2 the \n",
      "\n",
      "current token: 2 the\n",
      "predicted next token: 22 and \n",
      "\n",
      "Final continuation:\n",
      "[2, 2, 2, 2, 2, 2, 2, 2, 2, 22]\n",
      "['the', 'the', 'the', 'the', 'the', 'the', 'the', 'the', 'the', 'and']\n",
      "Final:\n",
      "the First War began the the the the the the the the the and\n"
     ]
    }
   ],
   "source": [
    "# COPY YOUR HW3-A SOLUTION HERE\n",
    "def token2onehot(token, vocab_size = VOCAB.num_words()):\n",
    "  one_hot = None\n",
    "  ### BEGIN SOLUTION\n",
    "  one_hot = torch.zeros(1, vocab_size, dtype=torch.float32)\n",
    "  one_hot[0][int(token)] = 1.0\n",
    "  ### END SOLUTION\n",
    "  return one_hot\n",
    "    \n",
    "# COPIED FROM HW3-A\n",
    "def prep_hidden_state(tokenized_input, rnn, verbose=False):\n",
    "  # Get an initial hidden state\n",
    "  hidden_state = rnn.init_hidden()\n",
    "  # Run the input prompt through the RNN to build up the hidden state.\n",
    "  # Discard the outputs (we are not trying to make predictions) until we get to the end\n",
    "  for token in tokenized_input:\n",
    "    if verbose:\n",
    "      print(\"current token:\", token, VOCAB.index2word(token))\n",
    "    # Get the one-hot for the current token\n",
    "    x = token2onehot(token)\n",
    "    x = x.float()\n",
    "    # Run the current one-hot and hidden state through the RNN\n",
    "    output, hidden_state = rnn(x, hidden_state)\n",
    "    # Get the highest predicted token\n",
    "    next_token = output.argmax().item()\n",
    "    if verbose:\n",
    "      print(\"predicted next token:\", next_token, VOCAB.index2word(next_token), '\\n')\n",
    "  return hidden_state\n",
    "\n",
    "# COPY YOUR HW3-A SOLUTION HERE\n",
    "def my_temperature_sample(log_probs, temperature=1.0):\n",
    "  token = None\n",
    "  ### BEGIN SOLUTION\n",
    "  T = max(1e-6, float(temperature))\n",
    "  scaled = log_probs / T\n",
    "  probs = torch.exp(scaled)\n",
    "  token = torch.multinomial(probs, num_samples=1).item()\n",
    "  ### END SOLUTION\n",
    "  return token\n",
    "\n",
    "# COPIED FROM HW3-A\n",
    "def generate_rnn(rnn, num_new_tokens, token, hidden_state, fn=lambda d:d.argmax().item(), verbose=False):\n",
    "  # Keep generating more by feeding the predicted output back into the RNN as input\n",
    "  # Start with the last token of the input prompt and the newly prepped hidden state\n",
    "  if verbose:\n",
    "    print(\"Generating continuation:\\n\")\n",
    "  continuation = []\n",
    "  for n in range(num_new_tokens):\n",
    "    if verbose:\n",
    "      print(\"current token:\", token, VOCAB.index2word(token))\n",
    "    # Get the one-hot for the current token\n",
    "    x = token2onehot(token)\n",
    "    x = x.float()\n",
    "    # Run the current one-hot through the RNN\n",
    "    output, hidden_state = rnn(x, hidden_state)\n",
    "    # Predict the next token\n",
    "    next_token = fn(output)\n",
    "    if verbose:\n",
    "      print(\"predicted next token:\", next_token, VOCAB.index2word(next_token), '\\n')\n",
    "    # Remember the new token\n",
    "    continuation.append(next_token)\n",
    "    # update the current\n",
    "    token = next_token\n",
    "  return continuation\n",
    "\n",
    "# Example input prompt:\n",
    "input_prompt = \"the First War began\"\n",
    "# How long should the continuation be?\n",
    "num_new_tokens = 10\n",
    "\n",
    "# Normalize the input\n",
    "normalized_input = normalize_string(input_prompt)\n",
    "# Tokenize the input\n",
    "tokenized_input = [VOCAB.word2index(w) for w in normalized_input.split()]\n",
    "print(\"input prompt:\", input_prompt)\n",
    "print(\"input tokens:\", tokenized_input, '\\n')\n",
    "\n",
    "# Get the hidden state that represents the input prompt\n",
    "print(\"Prepping hidden state:\\n\")\n",
    "hidden_state = prep_hidden_state(tokenized_input, lstm, verbose=True)\n",
    "\n",
    "# Generate the continuation. Use the argmax function to sample from the RNN's outputs\n",
    "token = tokenized_input[-1]\n",
    "continuation = generate_rnn(lstm, num_new_tokens, token, hidden_state, fn=lambda d:my_temperature_sample(d, LSTM_TEMPERATURE), verbose=True)\n",
    "\n",
    "# All done\n",
    "print(\"Final continuation:\")\n",
    "print(continuation)\n",
    "continuation_text = [VOCAB.index2word(t) for t in continuation]\n",
    "print(continuation_text)\n",
    "print(\"Final:\")\n",
    "print(input_prompt + ' ' + ' '.join(continuation_text))"
   ]
  },
  {
   "cell_type": "markdown",
   "metadata": {
    "editable": false,
    "id": "k11f76FVDzpb",
    "slideshow": {
     "slide_type": ""
    },
    "tags": []
   },
   "source": [
    "# LSTM From Scratch (40 Points)"
   ]
  },
  {
   "cell_type": "markdown",
   "metadata": {
    "editable": false,
    "id": "TfU-uNxxJ3Qi",
    "slideshow": {
     "slide_type": ""
    },
    "tags": []
   },
   "source": [
    "Now we do LSTM the hard way---creating the LSTM cells by hand.\n",
    "\n",
    "**Complete the following functions inside the `MyLSTMCell` class.**\n",
    "\n",
    "We have broken the forward function into multiple parts:\n",
    "- Forget gate: determine what of the previous cell state should be discarded (by multiplying 0 or 1 produced by a sigmoid against the cell state).  `forget_gate()` implements $f=\\sigma(W_{i,f}x+b_{i,f} + W_{h,f}h+b_{h,f})$.\n",
    "- Input gate: determine what of the input should be introduced to the cell memory. `input_gate()` implements $i=\\sigma(W_{i,i}x+b_{i,i}+W_{h,i}h+b_{h,i})$\n",
    "- Cell memory: update the previous cell memory state to make a new cell memory state. `cell_memory()` implements $c'=f*c + i*tanh(W_{i,g}x+b_{i,g} + W_{h,g}h + b_{h,g})$.\n",
    "- Output gate: determine what from the current cell memory state. `output_gate()` implements $o=\\sigma(W_{i,o}x+b_{i,o}+W_{h,o}h+b_{h,o})$.\n",
    "- A final function `hidden_out()` will produce the new hidden state by implementing $h'=o*tanh(c')$.\n",
    "\n",
    "You will also need to initialize any linear layer modules, activation functions, etc. in the constructor."
   ]
  },
  {
   "cell_type": "code",
   "execution_count": 154,
   "metadata": {
    "editable": true,
    "executionInfo": {
     "elapsed": 2,
     "status": "ok",
     "timestamp": 1701883529871,
     "user": {
      "displayName": "Frank Ginac",
      "userId": "00024240915320510876"
     },
     "user_tz": 360
    },
    "id": "KUaVNN3nuUEh",
    "slideshow": {
     "slide_type": ""
    },
    "tags": [
     "raises-exception"
    ]
   },
   "outputs": [],
   "source": [
    "class MyLSTMCell(torch.nn.Module):\n",
    "\n",
    "  def __init__(self, input_size=10, hidden_size=64):\n",
    "    super(MyLSTMCell, self).__init__()\n",
    "    self.input_size = input_size\n",
    "    self.hidden_size = hidden_size\n",
    "    ### BEGIN SOLUTION\n",
    "    self.xf = torch.nn.Linear(input_size, hidden_size)\n",
    "    self.hf = torch.nn.Linear(hidden_size, hidden_size)\n",
    "\n",
    "    self.xi = torch.nn.Linear(input_size, hidden_size)\n",
    "    self.hi = torch.nn.Linear(hidden_size, hidden_size)\n",
    "\n",
    "    self.xc = torch.nn.Linear(input_size, hidden_size)\n",
    "    self.hc = torch.nn.Linear(hidden_size, hidden_size)\n",
    "\n",
    "    self.xo = torch.nn.Linear(input_size, hidden_size)\n",
    "    self.ho = torch.nn.Linear(hidden_size, hidden_size)\n",
    "\n",
    "    self.sigmoid = torch.nn.Sigmoid()\n",
    "    self.tanh = torch.nn.Tanh()\n",
    "    ### END SOLUTION\n",
    "\n",
    "  ### The Forget Gate takes in the input (x) and hidden state (h)\n",
    "  ### The input and hidden state pass through their own linear compression layers,\n",
    "  ### then are concatenated and passed through a sigmoid\n",
    "  def forget_gate(self, x, h):\n",
    "    f = None # The gate vector to return\n",
    "    ### BEGIN SOLUTION\n",
    "    f = self.sigmoid(self.xf(x) + self.hf(h))\n",
    "    ### END SOLUTION\n",
    "    return f\n",
    "\n",
    "  ### The Input Gate takes the input (x) and hidden state (h)\n",
    "  ### The input and hidden state pass through their own linear compression layers,\n",
    "  ### then are concatenated and passed through a sigmoid\n",
    "  def input_gate(self, x, h):\n",
    "    i = None # The gate vector to return\n",
    "    ### BEGIN SOLUTION\n",
    "    i = self.sigmoid(self.xi(x) + self.hi(h))\n",
    "    ### END SOLUTION\n",
    "    return i\n",
    "\n",
    "  ### The Cell memory gate takes the results from the input gate (i), the results from the forget gate (f)\n",
    "  ### the original input (x), the hidden state(h) and the previous cell state (c_prev).\n",
    "  ### 1. The Cell memory gate compresses the input and hidden and concatenates them and passes it through a Tanh.\n",
    "  ### 2. The resultant intermediate tensor is multiplied by the results from the input gate to determine\n",
    "  ###    what new information is allowed to carry on\n",
    "  ### 3. The results from the forget state are multiplied against the previous cell state (c_prev) to determine\n",
    "  ###    what should be removed from the cell state.\n",
    "  ### 4. The new cell state (c_next) is the new information that survived the input gate and the previous\n",
    "  ###    cell state that survived the forget gate.\n",
    "  ### The new cell state c_next is returned\n",
    "  def cell_memory(self, i, f, x, h, c_prev):\n",
    "    c_next = None\n",
    "    ### BEGIN SOLUTION\n",
    "    c = self.tanh(self.xc(x) + self.hc(h))\n",
    "    c_next = f * c_prev + i * c\n",
    "    ### END SOLUTION\n",
    "    return c_next\n",
    "\n",
    "  ### The Out gate takes the original input (x) and the hidden state (h)\n",
    "  ### The gate passes the input and hidden through their own compression layers and\n",
    "  ### then concatenates to send through a sigmoid\n",
    "  def out_gate(self, x, h):\n",
    "    o = None # The gate vector to return\n",
    "    ### BEGIN SOLUTION\n",
    "    o = self.sigmoid(self.xo(x) + self.ho(h))\n",
    "    ### END SOLUTION\n",
    "    return o\n",
    "\n",
    "  ### This function assembles the new hidden state, give the results of the output gate (o)\n",
    "  ### and the new cells sate (c_next).\n",
    "  ### This function runs c_next through a tanh to get a 1 or -1 which will flip some of the\n",
    "  ### elements of the output.\n",
    "  def hidden_out(self, o, c_next):\n",
    "    h_next = None\n",
    "    ### BEGIN SOLUTION\n",
    "    h_next = o * self.tanh(c_next)\n",
    "    ### END SOLUTION\n",
    "    return h_next\n",
    "\n",
    "  def forward(self, x, hc):\n",
    "    (h, c_prev) = hc\n",
    "    # Equation 1. input gate\n",
    "    i = self.input_gate(x, h)\n",
    "\n",
    "    # Equation 2. forget gate\n",
    "    f = self.forget_gate(x, h)\n",
    "\n",
    "    # Equation 3. updating the cell memory\n",
    "    c_next = self.cell_memory(i, f, x, h, c_prev)\n",
    "\n",
    "    # Equation 4. calculate the main output gate\n",
    "    o = self.out_gate(x, h)\n",
    "\n",
    "    # Equation 5. produce next hidden output\n",
    "    h_next = self.hidden_out(o, c_next)\n",
    "\n",
    "    return h_next, c_next\n",
    "\n",
    "  def init_hidden(self):\n",
    "    return (torch.zeros(1, self.hidden_size),\n",
    "            torch.zeros(1, self.hidden_size))"
   ]
  },
  {
   "cell_type": "code",
   "execution_count": 155,
   "metadata": {
    "colab": {
     "base_uri": "https://localhost:8080/"
    },
    "editable": false,
    "executionInfo": {
     "elapsed": 6,
     "status": "ok",
     "timestamp": 1701883529994,
     "user": {
      "displayName": "Frank Ginac",
      "userId": "00024240915320510876"
     },
     "user_tz": 360
    },
    "id": "F1hU85_pKq1k",
    "outputId": "8d30ea15-71c9-416f-fcea-1a2233b952ee",
    "scrolled": true,
    "slideshow": {
     "slide_type": ""
    },
    "tags": [
     "raises-exception"
    ]
   },
   "outputs": [
    {
     "name": "stdout",
     "output_type": "stream",
     "text": [
      "torch.Size([1, 50]) torch.Size([1, 50])\n",
      "NllLossBackward0\n",
      "MulBackward0\n",
      "SigmoidBackward0\n",
      "AddBackward0\n",
      "AddmmBackward0\n",
      "AccumulateGrad\n",
      "TBackward0\n",
      "AccumulateGrad\n",
      "AddmmBackward0\n",
      "AccumulateGrad\n",
      "TBackward0\n",
      "AccumulateGrad\n",
      "TanhBackward0\n",
      "AddBackward0\n",
      "MulBackward0\n",
      "SigmoidBackward0\n",
      "AddBackward0\n",
      "AddmmBackward0\n",
      "AccumulateGrad\n",
      "TBackward0\n",
      "AccumulateGrad\n",
      "AddmmBackward0\n",
      "AccumulateGrad\n",
      "TBackward0\n",
      "AccumulateGrad\n",
      "MulBackward0\n",
      "SigmoidBackward0\n",
      "AddBackward0\n",
      "AddmmBackward0\n",
      "AccumulateGrad\n",
      "TBackward0\n",
      "AccumulateGrad\n",
      "AddmmBackward0\n",
      "AccumulateGrad\n",
      "TBackward0\n",
      "AccumulateGrad\n",
      "TanhBackward0\n",
      "AddBackward0\n",
      "AddmmBackward0\n",
      "AccumulateGrad\n",
      "TBackward0\n",
      "AccumulateGrad\n",
      "AddmmBackward0\n",
      "AccumulateGrad\n",
      "TBackward0\n",
      "AccumulateGrad\n",
      "NllLossBackward0\n",
      "MulBackward0\n",
      "SigmoidBackward0\n",
      "AddBackward0\n",
      "AddmmBackward0\n",
      "AccumulateGrad\n",
      "TBackward0\n",
      "AccumulateGrad\n",
      "AddmmBackward0\n",
      "AccumulateGrad\n",
      "TBackward0\n",
      "AccumulateGrad\n",
      "TanhBackward0\n",
      "AddBackward0\n",
      "MulBackward0\n",
      "SigmoidBackward0\n",
      "AddBackward0\n",
      "AddmmBackward0\n",
      "AccumulateGrad\n",
      "TBackward0\n",
      "AccumulateGrad\n",
      "AddmmBackward0\n",
      "AccumulateGrad\n",
      "TBackward0\n",
      "AccumulateGrad\n",
      "MulBackward0\n",
      "SigmoidBackward0\n",
      "AddBackward0\n",
      "AddmmBackward0\n",
      "AccumulateGrad\n",
      "TBackward0\n",
      "AccumulateGrad\n",
      "AddmmBackward0\n",
      "AccumulateGrad\n",
      "TBackward0\n",
      "AccumulateGrad\n",
      "TanhBackward0\n",
      "AddBackward0\n",
      "AddmmBackward0\n",
      "AccumulateGrad\n",
      "TBackward0\n",
      "AccumulateGrad\n",
      "AddmmBackward0\n",
      "AccumulateGrad\n",
      "TBackward0\n",
      "AccumulateGrad\n",
      "NllLossBackward0\n",
      "MulBackward0\n",
      "SigmoidBackward0\n",
      "AddBackward0\n",
      "AddmmBackward0\n",
      "AccumulateGrad\n",
      "TBackward0\n",
      "AccumulateGrad\n",
      "AddmmBackward0\n",
      "AccumulateGrad\n",
      "TBackward0\n",
      "AccumulateGrad\n",
      "TanhBackward0\n",
      "AddBackward0\n",
      "MulBackward0\n",
      "SigmoidBackward0\n",
      "AddBackward0\n",
      "AddmmBackward0\n",
      "AccumulateGrad\n",
      "TBackward0\n",
      "AccumulateGrad\n",
      "AddmmBackward0\n",
      "AccumulateGrad\n",
      "TBackward0\n",
      "AccumulateGrad\n",
      "MulBackward0\n",
      "SigmoidBackward0\n",
      "AddBackward0\n",
      "AddmmBackward0\n",
      "AccumulateGrad\n",
      "TBackward0\n",
      "AccumulateGrad\n",
      "AddmmBackward0\n",
      "AccumulateGrad\n",
      "TBackward0\n",
      "AccumulateGrad\n",
      "TanhBackward0\n",
      "AddBackward0\n",
      "AddmmBackward0\n",
      "AccumulateGrad\n",
      "TBackward0\n",
      "AccumulateGrad\n",
      "AddmmBackward0\n",
      "AccumulateGrad\n",
      "TBackward0\n",
      "AccumulateGrad\n",
      "NllLossBackward0\n",
      "MulBackward0\n",
      "SigmoidBackward0\n",
      "AddBackward0\n",
      "AddmmBackward0\n",
      "AccumulateGrad\n",
      "TBackward0\n",
      "AccumulateGrad\n",
      "AddmmBackward0\n",
      "AccumulateGrad\n",
      "TBackward0\n",
      "AccumulateGrad\n",
      "TanhBackward0\n",
      "AddBackward0\n",
      "MulBackward0\n",
      "SigmoidBackward0\n",
      "AddBackward0\n",
      "AddmmBackward0\n",
      "AccumulateGrad\n",
      "TBackward0\n",
      "AccumulateGrad\n",
      "AddmmBackward0\n",
      "AccumulateGrad\n",
      "TBackward0\n",
      "AccumulateGrad\n",
      "MulBackward0\n",
      "SigmoidBackward0\n",
      "AddBackward0\n",
      "AddmmBackward0\n",
      "AccumulateGrad\n",
      "TBackward0\n",
      "AccumulateGrad\n",
      "AddmmBackward0\n",
      "AccumulateGrad\n",
      "TBackward0\n",
      "AccumulateGrad\n",
      "TanhBackward0\n",
      "AddBackward0\n",
      "AddmmBackward0\n",
      "AccumulateGrad\n",
      "TBackward0\n",
      "AccumulateGrad\n",
      "AddmmBackward0\n",
      "AccumulateGrad\n",
      "TBackward0\n",
      "AccumulateGrad\n",
      "NllLossBackward0\n",
      "MulBackward0\n",
      "SigmoidBackward0\n",
      "AddBackward0\n",
      "AddmmBackward0\n",
      "AccumulateGrad\n",
      "TBackward0\n",
      "AccumulateGrad\n",
      "AddmmBackward0\n",
      "AccumulateGrad\n",
      "TBackward0\n",
      "AccumulateGrad\n",
      "TanhBackward0\n",
      "AddBackward0\n",
      "MulBackward0\n",
      "SigmoidBackward0\n",
      "AddBackward0\n",
      "AddmmBackward0\n",
      "AccumulateGrad\n",
      "TBackward0\n",
      "AccumulateGrad\n",
      "AddmmBackward0\n",
      "AccumulateGrad\n",
      "TBackward0\n",
      "AccumulateGrad\n",
      "MulBackward0\n",
      "SigmoidBackward0\n",
      "AddBackward0\n",
      "AddmmBackward0\n",
      "AccumulateGrad\n",
      "TBackward0\n",
      "AccumulateGrad\n",
      "AddmmBackward0\n",
      "AccumulateGrad\n",
      "TBackward0\n",
      "AccumulateGrad\n",
      "TanhBackward0\n",
      "AddBackward0\n",
      "AddmmBackward0\n",
      "AccumulateGrad\n",
      "TBackward0\n",
      "AccumulateGrad\n",
      "AddmmBackward0\n",
      "AccumulateGrad\n",
      "TBackward0\n",
      "AccumulateGrad\n",
      "Number of layers found, 6, is correct.\n",
      "Test D: 5/5.0\n"
     ]
    }
   ],
   "source": [
    "# student check - the following test must return a value of 6 to receive credit (5 pts)\n",
    "ag.test_myLSTMCell_structure(MyLSTMCell)"
   ]
  },
  {
   "cell_type": "code",
   "execution_count": 156,
   "metadata": {
    "colab": {
     "base_uri": "https://localhost:8080/"
    },
    "editable": false,
    "executionInfo": {
     "elapsed": 4,
     "status": "ok",
     "timestamp": 1701883529994,
     "user": {
      "displayName": "Frank Ginac",
      "userId": "00024240915320510876"
     },
     "user_tz": 360
    },
    "id": "9qSAP1b3Kt-T",
    "outputId": "78d0f428-2ba7-4d3f-d88e-91af933590a1",
    "slideshow": {
     "slide_type": ""
    },
    "tags": [
     "raises-exception"
    ]
   },
   "outputs": [
    {
     "name": "stdout",
     "output_type": "stream",
     "text": [
      "Number of linear layers found, 8, is correct.\n",
      "Test E: 5/5.0\n"
     ]
    }
   ],
   "source": [
    "# student check - the following test must return a value of 8 to receive credit (5 pts)\n",
    "ag.MyLSTMCell_linear_layer_size_check()"
   ]
  },
  {
   "cell_type": "markdown",
   "metadata": {
    "editable": false,
    "id": "AX6gFeSw_nGN",
    "slideshow": {
     "slide_type": ""
    },
    "tags": []
   },
   "source": [
    "Let's build a cell. A cell doesn't do much by itself."
   ]
  },
  {
   "cell_type": "code",
   "execution_count": 157,
   "metadata": {
    "editable": false,
    "executionInfo": {
     "elapsed": 127,
     "status": "ok",
     "timestamp": 1701883530118,
     "user": {
      "displayName": "Frank Ginac",
      "userId": "00024240915320510876"
     },
     "user_tz": 360
    },
    "id": "KX5cDfwhjNNp",
    "slideshow": {
     "slide_type": ""
    },
    "tags": [
     "raises-exception"
    ]
   },
   "outputs": [],
   "source": [
    "cell = MyLSTMCell(input_size=VOCAB.num_words(), hidden_size=64)"
   ]
  },
  {
   "cell_type": "code",
   "execution_count": 158,
   "metadata": {
    "colab": {
     "base_uri": "https://localhost:8080/"
    },
    "editable": false,
    "executionInfo": {
     "elapsed": 170,
     "status": "ok",
     "timestamp": 1701883530285,
     "user": {
      "displayName": "Frank Ginac",
      "userId": "00024240915320510876"
     },
     "user_tz": 360
    },
    "id": "aIs1bUkCK9nB",
    "outputId": "e6629d89-acb1-4813-9b97-46942ab0c75e",
    "scrolled": true,
    "slideshow": {
     "slide_type": ""
    },
    "tags": [
     "raises-exception"
    ]
   },
   "outputs": [
    {
     "name": "stdout",
     "output_type": "stream",
     "text": [
      "SigmoidBackward0\n",
      "AddBackward0\n",
      "AddmmBackward0\n",
      "AccumulateGrad\n",
      "TBackward0\n",
      "AccumulateGrad\n",
      "AddmmBackward0\n",
      "AccumulateGrad\n",
      "TBackward0\n",
      "AccumulateGrad\n",
      "SigmoidBackward0\n",
      "AddBackward0\n",
      "AddmmBackward0\n",
      "AccumulateGrad\n",
      "TBackward0\n",
      "AccumulateGrad\n",
      "AddmmBackward0\n",
      "AccumulateGrad\n",
      "TBackward0\n",
      "AccumulateGrad\n",
      "SigmoidBackward0\n",
      "AddBackward0\n",
      "AddmmBackward0\n",
      "AccumulateGrad\n",
      "TBackward0\n",
      "AccumulateGrad\n",
      "AddmmBackward0\n",
      "AccumulateGrad\n",
      "TBackward0\n",
      "AccumulateGrad\n",
      "SigmoidBackward0\n",
      "AddBackward0\n",
      "AddmmBackward0\n",
      "AccumulateGrad\n",
      "TBackward0\n",
      "AccumulateGrad\n",
      "AddmmBackward0\n",
      "AccumulateGrad\n",
      "TBackward0\n",
      "AccumulateGrad\n",
      "SigmoidBackward0\n",
      "AddBackward0\n",
      "AddmmBackward0\n",
      "AccumulateGrad\n",
      "TBackward0\n",
      "AccumulateGrad\n",
      "AddmmBackward0\n",
      "AccumulateGrad\n",
      "TBackward0\n",
      "AccumulateGrad\n",
      "SigmoidBackward0\n",
      "AddBackward0\n",
      "AddmmBackward0\n",
      "AccumulateGrad\n",
      "TBackward0\n",
      "AccumulateGrad\n",
      "AddmmBackward0\n",
      "AccumulateGrad\n",
      "TBackward0\n",
      "AccumulateGrad\n",
      "SigmoidBackward0\n",
      "AddBackward0\n",
      "AddmmBackward0\n",
      "AccumulateGrad\n",
      "TBackward0\n",
      "AccumulateGrad\n",
      "AddmmBackward0\n",
      "AccumulateGrad\n",
      "TBackward0\n",
      "AccumulateGrad\n",
      "SigmoidBackward0\n",
      "AddBackward0\n",
      "AddmmBackward0\n",
      "AccumulateGrad\n",
      "TBackward0\n",
      "AccumulateGrad\n",
      "AddmmBackward0\n",
      "AccumulateGrad\n",
      "TBackward0\n",
      "AccumulateGrad\n",
      "SigmoidBackward0\n",
      "AddBackward0\n",
      "AddmmBackward0\n",
      "AccumulateGrad\n",
      "TBackward0\n",
      "AccumulateGrad\n",
      "AddmmBackward0\n",
      "AccumulateGrad\n",
      "TBackward0\n",
      "AccumulateGrad\n",
      "NllLossBackward0\n",
      "AddBackward0\n",
      "MulBackward0\n",
      "TanhBackward0\n",
      "AddBackward0\n",
      "AddmmBackward0\n",
      "AccumulateGrad\n",
      "TBackward0\n",
      "AccumulateGrad\n",
      "AddmmBackward0\n",
      "AccumulateGrad\n",
      "TBackward0\n",
      "AccumulateGrad\n",
      "--\n",
      "NllLossBackward0\n",
      "AddBackward0\n",
      "MulBackward0\n",
      "TanhBackward0\n",
      "AddBackward0\n",
      "AddmmBackward0\n",
      "AccumulateGrad\n",
      "TBackward0\n",
      "AccumulateGrad\n",
      "AddmmBackward0\n",
      "AccumulateGrad\n",
      "TBackward0\n",
      "AccumulateGrad\n",
      "NllLossBackward0\n",
      "AddBackward0\n",
      "MulBackward0\n",
      "TanhBackward0\n",
      "AddBackward0\n",
      "AddmmBackward0\n",
      "AccumulateGrad\n",
      "TBackward0\n",
      "AccumulateGrad\n",
      "AddmmBackward0\n",
      "AccumulateGrad\n",
      "TBackward0\n",
      "AccumulateGrad\n",
      "NllLossBackward0\n",
      "AddBackward0\n",
      "MulBackward0\n",
      "TanhBackward0\n",
      "AddBackward0\n",
      "AddmmBackward0\n",
      "AccumulateGrad\n",
      "TBackward0\n",
      "AccumulateGrad\n",
      "AddmmBackward0\n",
      "AccumulateGrad\n",
      "TBackward0\n",
      "AccumulateGrad\n",
      "1 2 2 1\n",
      "NllLossBackward0\n",
      "MulBackward0\n",
      "AddmmBackward0\n",
      "AccumulateGrad\n",
      "TBackward0\n",
      "AccumulateGrad\n",
      "TanhBackward0\n",
      "AddmmBackward0\n",
      "AccumulateGrad\n",
      "TBackward0\n",
      "AccumulateGrad\n",
      "NllLossBackward0\n",
      "MulBackward0\n",
      "AddmmBackward0\n",
      "AccumulateGrad\n",
      "TBackward0\n",
      "AccumulateGrad\n",
      "TanhBackward0\n",
      "AddmmBackward0\n",
      "AccumulateGrad\n",
      "TBackward0\n",
      "AccumulateGrad\n",
      "NllLossBackward0\n",
      "MulBackward0\n",
      "AddmmBackward0\n",
      "AccumulateGrad\n",
      "TBackward0\n",
      "AccumulateGrad\n",
      "TanhBackward0\n",
      "AddmmBackward0\n",
      "AccumulateGrad\n",
      "TBackward0\n",
      "AccumulateGrad\n",
      "NllLossBackward0\n",
      "MulBackward0\n",
      "AddmmBackward0\n",
      "AccumulateGrad\n",
      "TBackward0\n",
      "AccumulateGrad\n",
      "TanhBackward0\n",
      "AddmmBackward0\n",
      "AccumulateGrad\n",
      "TBackward0\n",
      "AccumulateGrad\n",
      "1 2 0 1\n",
      "Number of layers found, 22, is correct.\n",
      "Test F: 10/10\n"
     ]
    }
   ],
   "source": [
    "# student check - the following test must return a value of 22 to receive credit (10 pts)\n",
    "ag.test_gate_structure(cell)"
   ]
  },
  {
   "cell_type": "markdown",
   "metadata": {
    "editable": false,
    "id": "xHD45HsO_qx_",
    "slideshow": {
     "slide_type": ""
    },
    "tags": []
   },
   "source": [
    "Now let's load your `MyLSTMCell` class into `MyLSTM`."
   ]
  },
  {
   "cell_type": "code",
   "execution_count": 159,
   "metadata": {
    "editable": true,
    "executionInfo": {
     "elapsed": 3,
     "status": "ok",
     "timestamp": 1701883530285,
     "user": {
      "displayName": "Frank Ginac",
      "userId": "00024240915320510876"
     },
     "user_tz": 360
    },
    "id": "OLFMIFotAI0Z",
    "slideshow": {
     "slide_type": ""
    },
    "tags": [
     "raises-exception"
    ]
   },
   "outputs": [],
   "source": [
    "# It's ok to change this cell, however, you should not need to change it much (if at all) - note: certain changes may break the autograder, e.g., \n",
    "# increasing the size of the hidden layer could cause out of memory errors in the autograder and large numbers of epochs could cause autograder to time\n",
    "# out (pay attention to the runtime of your notebook and the warnings that are printed out at the end of the notebook)\n",
    "MY_CELL_HIDDEN_SIZE = 4\n",
    "MY_CELL_NUM_EPOCHS = 2\n",
    "MY_CELL_LEARNING_RATE = 0.01"
   ]
  },
  {
   "cell_type": "code",
   "execution_count": 160,
   "metadata": {
    "editable": false,
    "executionInfo": {
     "elapsed": 2,
     "status": "ok",
     "timestamp": 1701883530285,
     "user": {
      "displayName": "Frank Ginac",
      "userId": "00024240915320510876"
     },
     "user_tz": 360
    },
    "id": "R3CE-rewmg4S",
    "slideshow": {
     "slide_type": ""
    },
    "tags": [
     "raises-exception"
    ]
   },
   "outputs": [],
   "source": [
    "my_cell_lstm = MyLSTM(input_size=VOCAB.num_words(), hidden_size=MY_CELL_HIDDEN_SIZE, cell_type=MyLSTMCell)\n",
    "optimizer_my_cell = optim.SGD(my_cell_lstm.parameters(), lr=MY_CELL_LEARNING_RATE)\n",
    "criterion_my_cell = nn.NLLLoss()"
   ]
  },
  {
   "cell_type": "markdown",
   "metadata": {
    "editable": false,
    "id": "Au4bDyOjD7Dg",
    "slideshow": {
     "slide_type": ""
    },
    "tags": []
   },
   "source": [
    "## LSTM From Scratch---Training"
   ]
  },
  {
   "cell_type": "markdown",
   "metadata": {
    "editable": false,
    "id": "PReAw7jPEHS3",
    "slideshow": {
     "slide_type": ""
    },
    "tags": []
   },
   "source": [
    "Lets see if your combination of `MyLSTM` using `MyLSTMCell` learns. We don't need to update the training loop"
   ]
  },
  {
   "cell_type": "code",
   "execution_count": 161,
   "metadata": {
    "colab": {
     "base_uri": "https://localhost:8080/"
    },
    "editable": false,
    "executionInfo": {
     "elapsed": 627235,
     "status": "ok",
     "timestamp": 1701884157518,
     "user": {
      "displayName": "Frank Ginac",
      "userId": "00024240915320510876"
     },
     "user_tz": 360
    },
    "id": "twn105pnrmFx",
    "outputId": "da587035-90c3-48e5-ed23-ff214729e196",
    "scrolled": true,
    "slideshow": {
     "slide_type": ""
    },
    "tags": [
     "raises-exception"
    ]
   },
   "outputs": [
    {
     "name": "stdout",
     "output_type": "stream",
     "text": [
      "iter 0 loss 8.37520694732666\n",
      "iter 1000 loss 8.562178611755371\n",
      "iter 2000 loss 8.46033000946045\n",
      "iter 3000 loss 8.31403636932373\n",
      "iter 4000 loss 8.223347663879395\n",
      "iter 5000 loss 8.174005508422852\n",
      "iter 6000 loss 8.12998104095459\n",
      "iter 7000 loss 8.051474571228027\n",
      "iter 8000 loss 7.980473041534424\n",
      "iter 9000 loss 7.8951826095581055\n",
      "iter 10000 loss 7.832369804382324\n",
      "iter 11000 loss 7.772662162780762\n",
      "epoch 0 loss 7.743169784545898\n",
      "iter 0 loss 8.500690460205078\n",
      "iter 1000 loss 7.0363030433654785\n",
      "iter 2000 loss 7.07520055770874\n",
      "iter 3000 loss 6.991138458251953\n",
      "iter 4000 loss 7.029029369354248\n",
      "iter 5000 loss 7.087652683258057\n",
      "iter 6000 loss 7.133930683135986\n",
      "iter 7000 loss 7.120310306549072\n",
      "iter 8000 loss 7.105214595794678\n",
      "iter 9000 loss 7.067962646484375\n",
      "iter 10000 loss 7.05181360244751\n",
      "iter 11000 loss 7.0342512130737305\n",
      "epoch 1 loss 7.021975994110107\n"
     ]
    }
   ],
   "source": [
    "epoch_losses = train_lstm(my_cell_lstm, optimizer_my_cell, criterion_my_cell, num_epochs=MY_CELL_NUM_EPOCHS, data=TRAIN)"
   ]
  },
  {
   "cell_type": "code",
   "execution_count": 162,
   "metadata": {
    "collapsed": false,
    "editable": false,
    "jupyter": {
     "outputs_hidden": false
    },
    "slideshow": {
     "slide_type": ""
    },
    "tags": [
     "raises-exception"
    ]
   },
   "outputs": [
    {
     "data": {
      "text/plain": [
       "[<matplotlib.lines.Line2D at 0x329fa6d10>]"
      ]
     },
     "execution_count": 162,
     "metadata": {},
     "output_type": "execute_result"
    },
    {
     "data": {
      "image/png": "[encoded data removed]",
      "text/plain": [
       "<Figure size 640x480 with 1 Axes>"
      ]
     },
     "metadata": {},
     "output_type": "display_data"
    }
   ],
   "source": [
    "plt.figure(1)\n",
    "plt.clf()\n",
    "plt.xlabel('Epoch')\n",
    "plt.ylabel('Loss')\n",
    "plt.xticks(range(len(epoch_losses)))\n",
    "plt.plot(epoch_losses)"
   ]
  },
  {
   "cell_type": "markdown",
   "metadata": {
    "collapsed": false,
    "editable": false,
    "jupyter": {
     "outputs_hidden": false
    },
    "slideshow": {
     "slide_type": ""
    },
    "tags": []
   },
   "source": [
    "You should see a curve that slopes down steeply at first and then levels out to some asymptotic minimum."
   ]
  },
  {
   "cell_type": "markdown",
   "metadata": {
    "editable": false,
    "id": "5c-ofH8SD-4E",
    "slideshow": {
     "slide_type": ""
    },
    "tags": []
   },
   "source": [
    "## LSTM From Scratch---Testing"
   ]
  },
  {
   "cell_type": "markdown",
   "metadata": {
    "editable": false,
    "id": "jEh_eZJbEP3D",
    "slideshow": {
     "slide_type": ""
    },
    "tags": []
   },
   "source": [
    "We don't need to update the evaluation loop"
   ]
  },
  {
   "cell_type": "code",
   "execution_count": 163,
   "metadata": {
    "colab": {
     "base_uri": "https://localhost:8080/"
    },
    "editable": false,
    "executionInfo": {
     "elapsed": 1285,
     "status": "ok",
     "timestamp": 1701884160284,
     "user": {
      "displayName": "Frank Ginac",
      "userId": "00024240915320510876"
     },
     "user_tz": 360
    },
    "id": "LVNyCqQfMVdC",
    "outputId": "872d7872-d2cb-4f2c-8fe2-663602a24801",
    "slideshow": {
     "slide_type": ""
    },
    "tags": [
     "raises-exception"
    ]
   },
   "outputs": [
    {
     "name": "stdout",
     "output_type": "stream",
     "text": [
      "881.5552978515625\n",
      "Perplexity is less than 1000\n",
      "Test G: 20/20\n"
     ]
    }
   ],
   "source": [
    "# student check - the following test must return a value less than 1000 to receive credit (20 pts)\n",
    "ag.eval_lstm_2(max_perplexity=1000)"
   ]
  },
  {
   "cell_type": "markdown",
   "metadata": {
    "editable": false,
    "id": "fcrqcIgJEibA",
    "slideshow": {
     "slide_type": ""
    },
    "tags": []
   },
   "source": [
    "## LSTM From Scratch---Generation"
   ]
  },
  {
   "cell_type": "markdown",
   "metadata": {
    "editable": false,
    "id": "wUo5LWdVFctT",
    "slideshow": {
     "slide_type": ""
    },
    "tags": []
   },
   "source": [
    "Generation works the same."
   ]
  },
  {
   "cell_type": "code",
   "execution_count": 164,
   "metadata": {
    "editable": true,
    "executionInfo": {
     "elapsed": 7,
     "status": "ok",
     "timestamp": 1701884160284,
     "user": {
      "displayName": "Frank Ginac",
      "userId": "00024240915320510876"
     },
     "user_tz": 360
    },
    "id": "eGShC3Y_E6vy",
    "slideshow": {
     "slide_type": ""
    },
    "tags": [
     "raises-exception"
    ]
   },
   "outputs": [],
   "source": [
    "# It's ok to change this cell\n",
    "MY_CELL_TEMPERATURE = 0.5"
   ]
  },
  {
   "cell_type": "code",
   "execution_count": 165,
   "metadata": {
    "colab": {
     "base_uri": "https://localhost:8080/"
    },
    "editable": false,
    "executionInfo": {
     "elapsed": 8,
     "status": "ok",
     "timestamp": 1701884160285,
     "user": {
      "displayName": "Frank Ginac",
      "userId": "00024240915320510876"
     },
     "user_tz": 360
    },
    "id": "dD5OwZMXEldP",
    "outputId": "ca390e57-e8b0-4165-c0a7-68c7250b40c2",
    "slideshow": {
     "slide_type": ""
    },
    "tags": [
     "raises-exception"
    ]
   },
   "outputs": [
    {
     "name": "stdout",
     "output_type": "stream",
     "text": [
      "input prompt: the First War began\n",
      "input tokens: [2, 14, 15, 16] \n",
      "\n",
      "Prepping hidden state:\n",
      "\n",
      "current token: 2 the\n",
      "predicted next token: 2 the \n",
      "\n",
      "current token: 14 first\n",
      "predicted next token: 2 the \n",
      "\n",
      "current token: 15 war\n",
      "predicted next token: 2 the \n",
      "\n",
      "current token: 16 began\n",
      "predicted next token: 2 the \n",
      "\n",
      "Generating continuation:\n",
      "\n",
      "current token: 16 began\n",
      "predicted next token: 2 the \n",
      "\n",
      "current token: 2 the\n",
      "predicted next token: 2 the \n",
      "\n",
      "current token: 2 the\n",
      "predicted next token: 2 the \n",
      "\n",
      "current token: 2 the\n",
      "predicted next token: 22 and \n",
      "\n",
      "current token: 22 and\n",
      "predicted next token: 2 the \n",
      "\n",
      "current token: 2 the\n",
      "predicted next token: 2 the \n",
      "\n",
      "current token: 2 the\n",
      "predicted next token: 2 the \n",
      "\n",
      "current token: 2 the\n",
      "predicted next token: 2 the \n",
      "\n",
      "current token: 2 the\n",
      "predicted next token: 5 of \n",
      "\n",
      "current token: 5 of\n",
      "predicted next token: 22 and \n",
      "\n",
      "Final continuation:\n",
      "[2, 2, 2, 22, 2, 2, 2, 2, 5, 22]\n",
      "['the', 'the', 'the', 'and', 'the', 'the', 'the', 'the', 'of', 'and']\n",
      "Final:\n",
      "the First War began the the the and the the the the of and\n"
     ]
    }
   ],
   "source": [
    "# Example input prompt:\n",
    "input_prompt = \"the First War began\"\n",
    "# How long should the continuation be?\n",
    "num_new_tokens = 10\n",
    "\n",
    "# Normalize the input\n",
    "normalized_input = normalize_string(input_prompt)\n",
    "# Tokenize the input\n",
    "tokenized_input = [VOCAB.word2index(w) for w in normalized_input.split()]\n",
    "print(\"input prompt:\", input_prompt)\n",
    "print(\"input tokens:\", tokenized_input, '\\n')\n",
    "\n",
    "# Get the hidden state that represents the input prompt\n",
    "print(\"Prepping hidden state:\\n\")\n",
    "hidden_state = prep_hidden_state(tokenized_input, my_cell_lstm, verbose=True)\n",
    "\n",
    "# Generate the continuation. Use the argmax function to sample from the RNN's outputs\n",
    "token = tokenized_input[-1]\n",
    "continuation = generate_rnn(my_cell_lstm, num_new_tokens, token, hidden_state, fn=lambda d:my_temperature_sample(d, MY_CELL_TEMPERATURE), verbose=True)\n",
    "\n",
    "# All done\n",
    "print(\"Final continuation:\")\n",
    "print(continuation)\n",
    "continuation_text = [VOCAB.index2word(t) for t in continuation]\n",
    "print(continuation_text)\n",
    "print(\"Final:\")\n",
    "print(input_prompt + ' ' + ' '.join(continuation_text))"
   ]
  },
  {
   "cell_type": "markdown",
   "metadata": {
    "collapsed": false,
    "editable": false,
    "jupyter": {
     "outputs_hidden": false
    },
    "slideshow": {
     "slide_type": ""
    },
    "tags": []
   },
   "source": [
    "# Attention (40 Points)\n",
    "\n",
    "Attention allows the network to look back at previous data when trying to predict the next token.\n",
    "\n",
    "We will split the LSTM into an Encoder and a Decoder. The Encoder's job will be to update the hidden state based on the latest token. The Decoder's job is to predict the next token (log softmax over the vocabulary) based on the current hidden state as well as *n* previous hidden states. You will see that the training loop now collects up a stack of hidden states to pass to the Decoder. The Decoder will figure out how much the network should attend to each of the *n* prior hidden states before making its final prediction.\n",
    "\n",
    "The Encoder will be a simple `nn.LSTMCell`. While the encoder could be more complicated, this allows us to focus on the Decoder. The Decoder is more complicated, involving both an LSTMCell and an attention mechanism.\n",
    "\n",
    "**Complete the class defnition below**\n",
    "\n",
    "`MyAttentionDecoder` will implement another `nn.LSTMCell` plus an attention mechanism.\n",
    "\n",
    "Inputs:\n",
    "- `x`: a one-hot of the current token as a `1 x vocab_size` tensor\n",
    "- `hc`: a tuple containing a tuple with encoder's hidden state and memory cell state. The hidden state and cell state are both `1 x hidden_size` tensors.\n",
    "- `encoder_outputs`: a history of *n* encoded hidden states, as a `n x hidden_size` tensor (this data is not batched).\n",
    "\n",
    "Outputs:\n",
    "- `h_hat`: a log softmax probability distribution over the vocabular, as a `1 x vocab_size` tensor\n",
    "- `hc_out`: a tuple containing the LSTMCell's hidden state and memory cell state. The hidden state and cell state are both `1 x hidden_size` tensors."
   ]
  },
  {
   "cell_type": "code",
   "execution_count": 166,
   "metadata": {
    "collapsed": false,
    "editable": true,
    "jupyter": {
     "outputs_hidden": false
    },
    "slideshow": {
     "slide_type": ""
    },
    "tags": [
     "raises-exception"
    ]
   },
   "outputs": [],
   "source": [
    "class MyAttentionDecoder(nn.Module):\n",
    "  def __init__(self, hidden_size, input_size, max_length):\n",
    "    super(MyAttentionDecoder, self).__init__()\n",
    "    self.hidden_size = hidden_size\n",
    "    self.input_size = input_size\n",
    "    self.max_length = max_length\n",
    "    ### BEGIN SOLUTION\n",
    "    self.proj = nn.Linear(input_size, hidden_size)\n",
    "    self.relu1 = nn.ReLU()\n",
    "    self.scores = nn.Linear(2 * hidden_size, max_length)\n",
    "    self.fuse = nn.Linear(2 * hidden_size, hidden_size)\n",
    "    self.relu2 = nn.ReLU()\n",
    "    self.lstm = nn.LSTMCell(hidden_size, hidden_size)\n",
    "    self.out = nn.Linear(hidden_size, input_size)\n",
    "    self.softmax = nn.LogSoftmax(dim=1)\n",
    "    ### END SOLUTION\n",
    "\n",
    "  def forward(self, x, hc, encoder_outputs):\n",
    "    log_probs = None\n",
    "    hc_out = None\n",
    "    ### BEGIN SOLUTION\n",
    "    h_prev, c_prev = hc\n",
    "    x = x.float()\n",
    "    x_emb = self.relu1(self.proj(x))\n",
    "\n",
    "    query = torch.cat([x_emb, h_prev], dim=1)\n",
    "    scores = self.scores(query)\n",
    "    weights = torch.softmax(scores, dim=1)\n",
    "    enc = encoder_outputs.unsqueeze(0)\n",
    "    alpha = weights.unsqueeze(1)\n",
    "    context = torch.bmm(alpha, enc).squeeze(1)\n",
    "\n",
    "    combined = torch.cat([x_emb, context], dim=1)\n",
    "    lstm_input = self.relu2(self.fuse(combined))\n",
    "    h_dec, c_dec = self.lstm(lstm_input, (h_prev, c_prev))\n",
    "\n",
    "    logits = self.out(h_dec)\n",
    "    log_probs = self.softmax(logits)\n",
    "    \n",
    "    hc_out = (h_dec, c_dec)\n",
    "    ### END SOLUTION\n",
    "    return log_probs, hc_out\n",
    "\n",
    "  def init_hidden(self):\n",
    "    return (torch.zeros(1, self.hidden_size),\n",
    "            torch.zeros(1, self.hidden_size))"
   ]
  },
  {
   "cell_type": "code",
   "execution_count": 167,
   "metadata": {
    "collapsed": false,
    "editable": true,
    "jupyter": {
     "outputs_hidden": false
    },
    "slideshow": {
     "slide_type": ""
    },
    "tags": [
     "raises-exception"
    ]
   },
   "outputs": [],
   "source": [
    "# It's ok to change this cell, however, you should not need to change it much (if at all) - note: certain changes may break the autograder, e.g., \n",
    "# increasing the size of the hidden layer could cause out of memory errors in the autograder and large numbers of epochs could cause autograder to time\n",
    "# out (pay attention to the runtime of your notebook and the warnings that are printed out at the end of the notebook)\n",
    "ATTN_MAX_LENGTH = 5  # The number of past hidden states that can be attended to\n",
    "ATTN_HIDDEN_SIZE = 4\n",
    "ATTN_NUM_EPOCHS = 2\n",
    "ATTN_LEARNING_RATE = 0.01"
   ]
  },
  {
   "cell_type": "code",
   "execution_count": 168,
   "metadata": {
    "collapsed": false,
    "editable": false,
    "jupyter": {
     "outputs_hidden": false
    },
    "slideshow": {
     "slide_type": ""
    },
    "tags": [
     "raises-exception"
    ]
   },
   "outputs": [],
   "source": [
    "attn_encoder = nn.LSTMCell(VOCAB.num_words(), ATTN_HIDDEN_SIZE)\n",
    "attn_decoder = MyAttentionDecoder(ATTN_HIDDEN_SIZE, VOCAB.num_words(), ATTN_MAX_LENGTH)\n",
    "attn_criterion = nn.NLLLoss()\n",
    "attn_encoder_optimizer = optim.SGD(attn_decoder.parameters(), lr=ATTN_LEARNING_RATE, momentum=0.9)\n",
    "attn_decoder_optimizer = optim.SGD(attn_decoder.parameters(), lr=ATTN_LEARNING_RATE, momentum=0.9)"
   ]
  },
  {
   "cell_type": "code",
   "execution_count": 169,
   "metadata": {
    "collapsed": false,
    "editable": false,
    "jupyter": {
     "outputs_hidden": false
    },
    "slideshow": {
     "slide_type": ""
    },
    "tags": [
     "raises-exception"
    ]
   },
   "outputs": [
    {
     "name": "stdout",
     "output_type": "stream",
     "text": [
      "torch.Size([1, 100]) torch.Size([1, 64]) torch.Size([1, 64])\n",
      "--\n",
      "NllLossBackward0\n",
      "LogSoftmaxBackward0\n",
      "AddmmBackward0\n",
      "AccumulateGrad\n",
      "MulBackward0\n",
      "SigmoidBackward0\n",
      "UnsafeSplitBackward0\n",
      "AddBackward0\n",
      "AddmmBackward0\n",
      "AccumulateGrad\n",
      "TBackward0\n",
      "AccumulateGrad\n",
      "AddmmBackward0\n",
      "AccumulateGrad\n",
      "ReluBackward0\n",
      "AddmmBackward0\n",
      "AccumulateGrad\n",
      "CatBackward0\n",
      "ReluBackward0\n",
      "AddmmBackward0\n",
      "AccumulateGrad\n",
      "TBackward0\n",
      "AccumulateGrad\n",
      "SqueezeBackward1\n",
      "BmmBackward0\n",
      "UnsqueezeBackward0\n",
      "SoftmaxBackward0\n",
      "AddmmBackward0\n",
      "AccumulateGrad\n",
      "CatBackward0\n",
      "ReluBackward0\n",
      "AddmmBackward0\n",
      "AccumulateGrad\n",
      "TBackward0\n",
      "AccumulateGrad\n",
      "TBackward0\n",
      "AccumulateGrad\n",
      "TBackward0\n",
      "AccumulateGrad\n",
      "TBackward0\n",
      "AccumulateGrad\n",
      "TanhBackward0\n",
      "AddBackward0\n",
      "MulBackward0\n",
      "SigmoidBackward0\n",
      "UnsafeSplitBackward0\n",
      "AddBackward0\n",
      "AddmmBackward0\n",
      "AccumulateGrad\n",
      "TBackward0\n",
      "AccumulateGrad\n",
      "AddmmBackward0\n",
      "AccumulateGrad\n",
      "ReluBackward0\n",
      "AddmmBackward0\n",
      "AccumulateGrad\n",
      "CatBackward0\n",
      "ReluBackward0\n",
      "AddmmBackward0\n",
      "AccumulateGrad\n",
      "TBackward0\n",
      "AccumulateGrad\n",
      "SqueezeBackward1\n",
      "BmmBackward0\n",
      "UnsqueezeBackward0\n",
      "SoftmaxBackward0\n",
      "AddmmBackward0\n",
      "AccumulateGrad\n",
      "CatBackward0\n",
      "ReluBackward0\n",
      "AddmmBackward0\n",
      "AccumulateGrad\n",
      "TBackward0\n",
      "AccumulateGrad\n",
      "TBackward0\n",
      "AccumulateGrad\n",
      "TBackward0\n",
      "AccumulateGrad\n",
      "TBackward0\n",
      "AccumulateGrad\n",
      "MulBackward0\n",
      "SigmoidBackward0\n",
      "UnsafeSplitBackward0\n",
      "AddBackward0\n",
      "AddmmBackward0\n",
      "AccumulateGrad\n",
      "TBackward0\n",
      "AccumulateGrad\n",
      "AddmmBackward0\n",
      "AccumulateGrad\n",
      "ReluBackward0\n",
      "AddmmBackward0\n",
      "AccumulateGrad\n",
      "CatBackward0\n",
      "ReluBackward0\n",
      "AddmmBackward0\n",
      "AccumulateGrad\n",
      "TBackward0\n",
      "AccumulateGrad\n",
      "SqueezeBackward1\n",
      "BmmBackward0\n",
      "UnsqueezeBackward0\n",
      "SoftmaxBackward0\n",
      "AddmmBackward0\n",
      "AccumulateGrad\n",
      "CatBackward0\n",
      "ReluBackward0\n",
      "AddmmBackward0\n",
      "AccumulateGrad\n",
      "TBackward0\n",
      "AccumulateGrad\n",
      "TBackward0\n",
      "AccumulateGrad\n",
      "TBackward0\n",
      "AccumulateGrad\n",
      "TBackward0\n",
      "AccumulateGrad\n",
      "TanhBackward0\n",
      "UnsafeSplitBackward0\n",
      "AddBackward0\n",
      "AddmmBackward0\n",
      "AccumulateGrad\n",
      "TBackward0\n",
      "AccumulateGrad\n",
      "AddmmBackward0\n",
      "AccumulateGrad\n",
      "ReluBackward0\n",
      "AddmmBackward0\n",
      "AccumulateGrad\n",
      "CatBackward0\n",
      "ReluBackward0\n",
      "AddmmBackward0\n",
      "AccumulateGrad\n",
      "TBackward0\n",
      "AccumulateGrad\n",
      "SqueezeBackward1\n",
      "BmmBackward0\n",
      "UnsqueezeBackward0\n",
      "SoftmaxBackward0\n",
      "AddmmBackward0\n",
      "AccumulateGrad\n",
      "CatBackward0\n",
      "ReluBackward0\n",
      "AddmmBackward0\n",
      "AccumulateGrad\n",
      "TBackward0\n",
      "AccumulateGrad\n",
      "TBackward0\n",
      "AccumulateGrad\n",
      "TBackward0\n",
      "AccumulateGrad\n",
      "TBackward0\n",
      "AccumulateGrad\n",
      "TBackward0\n",
      "AccumulateGrad\n",
      "NllLossBackward0\n",
      "LogSoftmaxBackward0\n",
      "AddmmBackward0\n",
      "AccumulateGrad\n",
      "MulBackward0\n",
      "SigmoidBackward0\n",
      "UnsafeSplitBackward0\n",
      "AddBackward0\n",
      "AddmmBackward0\n",
      "AccumulateGrad\n",
      "TBackward0\n",
      "AccumulateGrad\n",
      "AddmmBackward0\n",
      "AccumulateGrad\n",
      "ReluBackward0\n",
      "AddmmBackward0\n",
      "AccumulateGrad\n",
      "CatBackward0\n",
      "ReluBackward0\n",
      "AddmmBackward0\n",
      "AccumulateGrad\n",
      "TBackward0\n",
      "AccumulateGrad\n",
      "SqueezeBackward1\n",
      "BmmBackward0\n",
      "UnsqueezeBackward0\n",
      "SoftmaxBackward0\n",
      "AddmmBackward0\n",
      "AccumulateGrad\n",
      "CatBackward0\n",
      "ReluBackward0\n",
      "AddmmBackward0\n",
      "AccumulateGrad\n",
      "TBackward0\n",
      "AccumulateGrad\n",
      "TBackward0\n",
      "AccumulateGrad\n",
      "TBackward0\n",
      "AccumulateGrad\n",
      "TBackward0\n",
      "AccumulateGrad\n",
      "TanhBackward0\n",
      "AddBackward0\n",
      "MulBackward0\n",
      "SigmoidBackward0\n",
      "UnsafeSplitBackward0\n",
      "AddBackward0\n",
      "AddmmBackward0\n",
      "AccumulateGrad\n",
      "TBackward0\n",
      "AccumulateGrad\n",
      "AddmmBackward0\n",
      "AccumulateGrad\n",
      "ReluBackward0\n",
      "AddmmBackward0\n",
      "AccumulateGrad\n",
      "CatBackward0\n",
      "ReluBackward0\n",
      "AddmmBackward0\n",
      "AccumulateGrad\n",
      "TBackward0\n",
      "AccumulateGrad\n",
      "SqueezeBackward1\n",
      "BmmBackward0\n",
      "UnsqueezeBackward0\n",
      "SoftmaxBackward0\n",
      "AddmmBackward0\n",
      "AccumulateGrad\n",
      "CatBackward0\n",
      "ReluBackward0\n",
      "AddmmBackward0\n",
      "AccumulateGrad\n",
      "TBackward0\n",
      "AccumulateGrad\n",
      "TBackward0\n",
      "AccumulateGrad\n",
      "TBackward0\n",
      "AccumulateGrad\n",
      "TBackward0\n",
      "AccumulateGrad\n",
      "MulBackward0\n",
      "SigmoidBackward0\n",
      "UnsafeSplitBackward0\n",
      "AddBackward0\n",
      "AddmmBackward0\n",
      "AccumulateGrad\n",
      "TBackward0\n",
      "AccumulateGrad\n",
      "AddmmBackward0\n",
      "AccumulateGrad\n",
      "ReluBackward0\n",
      "AddmmBackward0\n",
      "AccumulateGrad\n",
      "CatBackward0\n",
      "ReluBackward0\n",
      "AddmmBackward0\n",
      "AccumulateGrad\n",
      "TBackward0\n",
      "AccumulateGrad\n",
      "SqueezeBackward1\n",
      "BmmBackward0\n",
      "UnsqueezeBackward0\n",
      "SoftmaxBackward0\n",
      "AddmmBackward0\n",
      "AccumulateGrad\n",
      "CatBackward0\n",
      "ReluBackward0\n",
      "AddmmBackward0\n",
      "AccumulateGrad\n",
      "TBackward0\n",
      "AccumulateGrad\n",
      "TBackward0\n",
      "AccumulateGrad\n",
      "TBackward0\n",
      "AccumulateGrad\n",
      "TBackward0\n",
      "AccumulateGrad\n",
      "TanhBackward0\n",
      "UnsafeSplitBackward0\n",
      "AddBackward0\n",
      "AddmmBackward0\n",
      "AccumulateGrad\n",
      "TBackward0\n",
      "AccumulateGrad\n",
      "AddmmBackward0\n",
      "AccumulateGrad\n",
      "ReluBackward0\n",
      "AddmmBackward0\n",
      "AccumulateGrad\n",
      "CatBackward0\n",
      "ReluBackward0\n",
      "AddmmBackward0\n",
      "AccumulateGrad\n",
      "TBackward0\n",
      "AccumulateGrad\n",
      "SqueezeBackward1\n",
      "BmmBackward0\n",
      "UnsqueezeBackward0\n",
      "SoftmaxBackward0\n",
      "AddmmBackward0\n",
      "AccumulateGrad\n",
      "CatBackward0\n",
      "ReluBackward0\n",
      "AddmmBackward0\n",
      "AccumulateGrad\n",
      "TBackward0\n",
      "AccumulateGrad\n",
      "TBackward0\n",
      "AccumulateGrad\n",
      "TBackward0\n",
      "AccumulateGrad\n",
      "TBackward0\n",
      "AccumulateGrad\n",
      "TBackward0\n",
      "AccumulateGrad\n",
      "NllLossBackward0\n",
      "LogSoftmaxBackward0\n",
      "AddmmBackward0\n",
      "AccumulateGrad\n",
      "MulBackward0\n",
      "SigmoidBackward0\n",
      "UnsafeSplitBackward0\n",
      "AddBackward0\n",
      "AddmmBackward0\n",
      "AccumulateGrad\n",
      "TBackward0\n",
      "AccumulateGrad\n",
      "AddmmBackward0\n",
      "AccumulateGrad\n",
      "ReluBackward0\n",
      "AddmmBackward0\n",
      "AccumulateGrad\n",
      "CatBackward0\n",
      "ReluBackward0\n",
      "AddmmBackward0\n",
      "AccumulateGrad\n",
      "TBackward0\n",
      "AccumulateGrad\n",
      "SqueezeBackward1\n",
      "BmmBackward0\n",
      "UnsqueezeBackward0\n",
      "SoftmaxBackward0\n",
      "AddmmBackward0\n",
      "AccumulateGrad\n",
      "CatBackward0\n",
      "ReluBackward0\n",
      "AddmmBackward0\n",
      "AccumulateGrad\n",
      "TBackward0\n",
      "AccumulateGrad\n",
      "TBackward0\n",
      "AccumulateGrad\n",
      "TBackward0\n",
      "AccumulateGrad\n",
      "TBackward0\n",
      "AccumulateGrad\n",
      "TanhBackward0\n",
      "AddBackward0\n",
      "MulBackward0\n",
      "SigmoidBackward0\n",
      "UnsafeSplitBackward0\n",
      "AddBackward0\n",
      "AddmmBackward0\n",
      "AccumulateGrad\n",
      "TBackward0\n",
      "AccumulateGrad\n",
      "AddmmBackward0\n",
      "AccumulateGrad\n",
      "ReluBackward0\n",
      "AddmmBackward0\n",
      "AccumulateGrad\n",
      "CatBackward0\n",
      "ReluBackward0\n",
      "AddmmBackward0\n",
      "AccumulateGrad\n",
      "TBackward0\n",
      "AccumulateGrad\n",
      "SqueezeBackward1\n",
      "BmmBackward0\n",
      "UnsqueezeBackward0\n",
      "SoftmaxBackward0\n",
      "AddmmBackward0\n",
      "AccumulateGrad\n",
      "CatBackward0\n",
      "ReluBackward0\n",
      "AddmmBackward0\n",
      "AccumulateGrad\n",
      "TBackward0\n",
      "AccumulateGrad\n",
      "TBackward0\n",
      "AccumulateGrad\n",
      "TBackward0\n",
      "AccumulateGrad\n",
      "TBackward0\n",
      "AccumulateGrad\n",
      "MulBackward0\n",
      "SigmoidBackward0\n",
      "UnsafeSplitBackward0\n",
      "AddBackward0\n",
      "AddmmBackward0\n",
      "AccumulateGrad\n",
      "TBackward0\n",
      "AccumulateGrad\n",
      "AddmmBackward0\n",
      "AccumulateGrad\n",
      "ReluBackward0\n",
      "AddmmBackward0\n",
      "AccumulateGrad\n",
      "CatBackward0\n",
      "ReluBackward0\n",
      "AddmmBackward0\n",
      "AccumulateGrad\n",
      "TBackward0\n",
      "AccumulateGrad\n",
      "SqueezeBackward1\n",
      "BmmBackward0\n",
      "UnsqueezeBackward0\n",
      "SoftmaxBackward0\n",
      "AddmmBackward0\n",
      "AccumulateGrad\n",
      "CatBackward0\n",
      "ReluBackward0\n",
      "AddmmBackward0\n",
      "AccumulateGrad\n",
      "TBackward0\n",
      "AccumulateGrad\n",
      "TBackward0\n",
      "AccumulateGrad\n",
      "TBackward0\n",
      "AccumulateGrad\n",
      "TBackward0\n",
      "AccumulateGrad\n",
      "TanhBackward0\n",
      "UnsafeSplitBackward0\n",
      "AddBackward0\n",
      "AddmmBackward0\n",
      "AccumulateGrad\n",
      "TBackward0\n",
      "AccumulateGrad\n",
      "AddmmBackward0\n",
      "AccumulateGrad\n",
      "ReluBackward0\n",
      "AddmmBackward0\n",
      "AccumulateGrad\n",
      "CatBackward0\n",
      "ReluBackward0\n",
      "AddmmBackward0\n",
      "AccumulateGrad\n",
      "TBackward0\n",
      "AccumulateGrad\n",
      "SqueezeBackward1\n",
      "BmmBackward0\n",
      "UnsqueezeBackward0\n",
      "SoftmaxBackward0\n",
      "AddmmBackward0\n",
      "AccumulateGrad\n",
      "CatBackward0\n",
      "ReluBackward0\n",
      "AddmmBackward0\n",
      "AccumulateGrad\n",
      "TBackward0\n",
      "AccumulateGrad\n",
      "TBackward0\n",
      "AccumulateGrad\n",
      "TBackward0\n",
      "AccumulateGrad\n",
      "TBackward0\n",
      "AccumulateGrad\n",
      "TBackward0\n",
      "AccumulateGrad\n",
      "5 4 12\n",
      "Number of layers found, 7, is correct.\n",
      "Test H: 10/10\n"
     ]
    }
   ],
   "source": [
    "# student check - the following test must return a value of 4 to receive credit (10 pts)\n",
    "ag.test_attention_structure()"
   ]
  },
  {
   "cell_type": "code",
   "execution_count": 170,
   "metadata": {
    "collapsed": false,
    "editable": false,
    "jupyter": {
     "outputs_hidden": false
    },
    "slideshow": {
     "slide_type": ""
    },
    "tags": [
     "raises-exception"
    ]
   },
   "outputs": [
    {
     "name": "stdout",
     "output_type": "stream",
     "text": [
      "Number of linear layers found, 4, is correct.\n",
      "Test I: 10/10\n"
     ]
    }
   ],
   "source": [
    "# student check - the following test must return a value of 8 to receive credit (10 pts)\n",
    "ag.attention_linear_layer_size_check()"
   ]
  },
  {
   "cell_type": "markdown",
   "metadata": {
    "collapsed": false,
    "editable": false,
    "jupyter": {
     "outputs_hidden": false
    },
    "slideshow": {
     "slide_type": ""
    },
    "tags": []
   },
   "source": [
    "## Attention---Training"
   ]
  },
  {
   "cell_type": "markdown",
   "metadata": {
    "collapsed": false,
    "editable": false,
    "jupyter": {
     "outputs_hidden": false
    },
    "slideshow": {
     "slide_type": ""
    },
    "tags": []
   },
   "source": [
    "The training loop is a bit more involved because it must collect up a number of past hidden states. It still uses your `get_rnn_x_y()` function though."
   ]
  },
  {
   "cell_type": "code",
   "execution_count": 171,
   "metadata": {
    "collapsed": false,
    "editable": false,
    "jupyter": {
     "outputs_hidden": false
    },
    "slideshow": {
     "slide_type": ""
    },
    "tags": [
     "raises-exception"
    ]
   },
   "outputs": [],
   "source": [
    "def train_attn(data, num_epochs, encoder, decoder, encoder_optimizer, decoder_optimizer, criterion, max_length=ATTN_MAX_LENGTH):\n",
    "  epoch_losses = []\n",
    "  encoder.train()\n",
    "  decoder.train()\n",
    "  for epoch in range(num_epochs):\n",
    "    losses = []\n",
    "    # Get an empty hc\n",
    "    encoder_hc = decoder.init_hidden()\n",
    "    # Create an empty history of hiddens\n",
    "    encoder_outputs = torch.zeros(max_length, encoder.hidden_size)\n",
    "\n",
    "    for iter in range(len(data)-1):\n",
    "      x, y = ag.get_rnn_x_y(data, iter, VOCAB.num_words())\n",
    "      x = x.float()\n",
    "      # Call encoder\n",
    "      encoder_hidden, encoder_cell = encoder(x, encoder_hc)\n",
    "      encoder_hc = (encoder_hidden, encoder_cell)\n",
    "      # unbatch the hidden so it can be added to encoder_outputs\n",
    "      encoder_output = encoder_hidden[0]\n",
    "      # Shift all the previous outputs\n",
    "      # Grab elements 1...max (dropping row 0) and flatten\n",
    "      encoder_outputs = encoder_outputs[1:,:].view(-1)\n",
    "      # Add the new output\n",
    "      encoder_outputs = torch.cat((encoder_outputs, encoder_output.detach()))\n",
    "      # re-fold\n",
    "      encoder_outputs = encoder_outputs.view(max_length, -1)\n",
    "      # decoder's input hc is the encoder's output hc\n",
    "      decoder_hc = encoder_hc\n",
    "      # Call the decoder\n",
    "      decoder_output, decoder_hc = decoder(x, decoder_hc, encoder_outputs)\n",
    "\n",
    "      loss = criterion(decoder_output, y)\n",
    "      losses.append(loss)\n",
    "\n",
    "      encoder_optimizer.zero_grad()\n",
    "      decoder_optimizer.zero_grad()\n",
    "      loss.backward()\n",
    "      encoder_optimizer.step()\n",
    "      decoder_optimizer.step()\n",
    "\n",
    "      # Prep the decoder hc for the next iteration\n",
    "      encoder_hc = (decoder_hc[0].detach(), decoder_hc[1].detach())\n",
    "\n",
    "      if iter%1000 == 0:\n",
    "        print(\"iter\", iter, \"loss\", torch.stack(losses).mean().item())\n",
    "    print(\"epoch\", epoch, \"loss\", torch.stack(losses).mean().item())\n",
    "    epoch_losses.append(torch.stack(losses).mean().item())\n",
    "  return epoch_losses"
   ]
  },
  {
   "cell_type": "code",
   "execution_count": 172,
   "metadata": {
    "collapsed": false,
    "editable": false,
    "jupyter": {
     "outputs_hidden": false
    },
    "slideshow": {
     "slide_type": ""
    },
    "tags": [
     "raises-exception"
    ]
   },
   "outputs": [
    {
     "name": "stdout",
     "output_type": "stream",
     "text": [
      "iter 0 loss 9.173781394958496\n",
      "iter 1000 loss 7.026134490966797\n",
      "iter 2000 loss 6.693027496337891\n",
      "iter 3000 loss 6.5001678466796875\n",
      "iter 4000 loss 6.449748516082764\n",
      "iter 5000 loss 6.412690162658691\n",
      "iter 6000 loss 6.369556427001953\n",
      "iter 7000 loss 6.333251476287842\n",
      "iter 8000 loss 6.297521114349365\n",
      "iter 9000 loss 6.243900775909424\n",
      "iter 10000 loss 6.213958740234375\n",
      "iter 11000 loss 6.179818153381348\n",
      "epoch 0 loss 6.158396244049072\n",
      "iter 0 loss 8.153081893920898\n",
      "iter 1000 loss 5.747084617614746\n",
      "iter 2000 loss 5.758851051330566\n",
      "iter 3000 loss 5.71121883392334\n",
      "iter 4000 loss 5.7467360496521\n",
      "iter 5000 loss 5.778269290924072\n",
      "iter 6000 loss 5.78842830657959\n",
      "iter 7000 loss 5.785565376281738\n",
      "iter 8000 loss 5.775114059448242\n",
      "iter 9000 loss 5.736856937408447\n",
      "iter 10000 loss 5.724371433258057\n",
      "iter 11000 loss 5.7023444175720215\n",
      "epoch 1 loss 5.686540603637695\n"
     ]
    }
   ],
   "source": [
    "epoch_losses = train_attn(TRAIN, ATTN_NUM_EPOCHS, attn_encoder, attn_decoder, attn_encoder_optimizer, attn_decoder_optimizer, attn_criterion, ATTN_MAX_LENGTH)"
   ]
  },
  {
   "cell_type": "code",
   "execution_count": 173,
   "metadata": {
    "collapsed": false,
    "editable": false,
    "jupyter": {
     "outputs_hidden": false
    },
    "slideshow": {
     "slide_type": ""
    },
    "tags": [
     "raises-exception"
    ]
   },
   "outputs": [
    {
     "data": {
      "text/plain": [
       "[<matplotlib.lines.Line2D at 0x338b41f60>]"
      ]
     },
     "execution_count": 173,
     "metadata": {},
     "output_type": "execute_result"
    },
    {
     "data": {
      "image/png": "[encoded data removed]",
      "text/plain": [
       "<Figure size 640x480 with 1 Axes>"
      ]
     },
     "metadata": {},
     "output_type": "display_data"
    }
   ],
   "source": [
    "plt.figure(1)\n",
    "plt.clf()\n",
    "plt.xlabel('Epoch')\n",
    "plt.ylabel('Loss')\n",
    "plt.xticks(range(len(epoch_losses)))\n",
    "plt.plot(epoch_losses)"
   ]
  },
  {
   "cell_type": "markdown",
   "metadata": {
    "collapsed": false,
    "editable": false,
    "jupyter": {
     "outputs_hidden": false
    },
    "slideshow": {
     "slide_type": ""
    },
    "tags": []
   },
   "source": [
    "You should see a curve that slopes down steeply at first and then levels out to some asymptotic minimum."
   ]
  },
  {
   "cell_type": "markdown",
   "metadata": {
    "collapsed": false,
    "editable": false,
    "jupyter": {
     "outputs_hidden": false
    },
    "slideshow": {
     "slide_type": ""
    },
    "tags": []
   },
   "source": [
    "## Attention---Testing"
   ]
  },
  {
   "cell_type": "code",
   "execution_count": 174,
   "metadata": {
    "collapsed": false,
    "editable": false,
    "jupyter": {
     "outputs_hidden": false
    },
    "slideshow": {
     "slide_type": ""
    },
    "tags": [
     "raises-exception"
    ]
   },
   "outputs": [
    {
     "name": "stdout",
     "output_type": "stream",
     "text": [
      "Perplexity = 388.5970764160156\n",
      "Perplexity is less than 1000\n",
      "Test J: 20/20\n"
     ]
    }
   ],
   "source": [
    "# student check - the following test must return a value less than 1000 to receive credit (20 pts)\n",
    "ag.eval_attn(max_perplexity=1000)"
   ]
  },
  {
   "cell_type": "markdown",
   "metadata": {
    "collapsed": false,
    "editable": false,
    "jupyter": {
     "outputs_hidden": false
    },
    "slideshow": {
     "slide_type": ""
    },
    "tags": []
   },
   "source": [
    "# Grading\n",
    "\n",
    "Please submit this .ipynb file to Gradescope for grading."
   ]
  },
  {
   "cell_type": "markdown",
   "metadata": {
    "collapsed": false,
    "editable": false,
    "jupyter": {
     "outputs_hidden": false
    },
    "slideshow": {
     "slide_type": ""
    },
    "tags": []
   },
   "source": [
    "## Final Grade"
   ]
  },
  {
   "cell_type": "code",
   "execution_count": 175,
   "metadata": {
    "collapsed": false,
    "editable": false,
    "jupyter": {
     "outputs_hidden": false
    },
    "slideshow": {
     "slide_type": ""
    },
    "tags": [
     "raises-exception"
    ]
   },
   "outputs": [
    {
     "name": "stdout",
     "output_type": "stream",
     "text": [
      "Your projected points for this assignment is 370/100.\n",
      "\n",
      "NOTE: THIS IS NOT YOUR FINAL GRADE. YOUR FINAL GRADE FOR THIS ASSIGNMENT WILL BE AT LEAST 370 OR MORE, BUT NOT LESS\n",
      "\n"
     ]
    }
   ],
   "source": [
    "# student check\n",
    "ag.final_grade()"
   ]
  },
  {
   "cell_type": "markdown",
   "metadata": {
    "collapsed": false,
    "editable": false,
    "jupyter": {
     "outputs_hidden": false
    },
    "slideshow": {
     "slide_type": ""
    },
    "tags": []
   },
   "source": [
    "## Notebook Runtime"
   ]
  },
  {
   "cell_type": "code",
   "execution_count": 176,
   "metadata": {
    "collapsed": false,
    "editable": false,
    "jupyter": {
     "outputs_hidden": false
    },
    "slideshow": {
     "slide_type": ""
    },
    "tags": [
     "raises-exception"
    ]
   },
   "outputs": [
    {
     "name": "stdout",
     "output_type": "stream",
     "text": [
      "Notebook execution time in minutes = 0.37302016417185463\n"
     ]
    }
   ],
   "source": [
    "# end time - notebook execution\n",
    "end_nb = time.time()\n",
    "# print notebook execution time in minutes\n",
    "print(\"Notebook execution time in minutes =\", (end_nb - start_nb)/60)\n",
    "# warn student if notebook execution time is greater than 30 minutes\n",
    "if (end_nb - start_nb)/60 > 30:\n",
    "  print(\"WARNING: Notebook execution time is greater than 30 minutes. Your submission may not complete auto-grading on Gradescope. Please optimize your code to reduce the notebook execution time.\")"
   ]
  }
 ],
 "metadata": {
  "accelerator": "GPU",
  "colab": {
   "collapsed_sections": [
    "UT-whgM5YV8X",
    "VeQWnSY8CgT1",
    "UY0I2wl9D61t",
    "NbdKluXiFs3G",
    "k11f76FVDzpb",
    "ioeaPBMUF8zZ"
   ],
   "provenance": []
  },
  "kernelspec": {
   "display_name": "nlp_hw1",
   "language": "python",
   "name": "python3"
  },
  "language_info": {
   "codemirror_mode": {
    "name": "ipython",
    "version": 3
   },
   "file_extension": ".py",
   "mimetype": "text/x-python",
   "name": "python",
   "nbconvert_exporter": "python",
   "pygments_lexer": "ipython3",
   "version": "3.10.18"
  }
 },
 "nbformat": 4,
 "nbformat_minor": 4
}
